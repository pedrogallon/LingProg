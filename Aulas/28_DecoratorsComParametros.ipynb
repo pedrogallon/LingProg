{
 "cells": [
  {
   "cell_type": "code",
   "execution_count": 5,
   "metadata": {
    "collapsed": true
   },
   "outputs": [],
   "source": [
    "def fatorial(n):\n",
    "    return 1 if n == 0 else n*fatorial(n-1)"
   ]
  },
  {
   "cell_type": "markdown",
   "metadata": {},
   "source": [
    "## Decorator com parâmetros\n"
   ]
  },
  {
   "cell_type": "code",
   "execution_count": 36,
   "metadata": {
    "collapsed": false
   },
   "outputs": [
    {
     "data": {
      "text/plain": [
       "1.0006427764892578"
      ]
     },
     "execution_count": 36,
     "metadata": {},
     "output_type": "execute_result"
    }
   ],
   "source": [
    "import time\n",
    "\n",
    "def timer_with_arguments(units=\"s\"):\n",
    "    \n",
    "\n",
    "    def timer(fnc):\n",
    "        def inner(arg):\n",
    "            t0 = time.time()\n",
    "            fnc(arg)\n",
    "            t1 = time.time()\n",
    "            delta = t1-t0\n",
    "            if units ==\"ms\":\n",
    "                delta *= 1000\n",
    "            return delta\n",
    "        return inner\n",
    "    return timer\n",
    "\n",
    "timed_fatorial = timer_with_arguments(\"ms\")(fatorial)\n",
    "timed_fatorial(900)\n"
   ]
  },
  {
   "cell_type": "markdown",
   "metadata": {},
   "source": [
    "## O mesmo com @"
   ]
  },
  {
   "cell_type": "code",
   "execution_count": 74,
   "metadata": {
    "collapsed": false
   },
   "outputs": [
    {
     "data": {
      "text/plain": [
       "1.001119613647461"
      ]
     },
     "execution_count": 74,
     "metadata": {},
     "output_type": "execute_result"
    }
   ],
   "source": [
    "@timer_with_arguments(\"ms\")\n",
    "def fatorial_2(n):\n",
    "    return 1 if n == 0 else n*fatorial(n-1)\n",
    "\n",
    "fatorial_2(900)"
   ]
  }
 ],
 "metadata": {
  "kernelspec": {
   "display_name": "Python 3",
   "language": "python",
   "name": "python3"
  },
  "language_info": {
   "codemirror_mode": {
    "name": "ipython",
    "version": 3
   },
   "file_extension": ".py",
   "mimetype": "text/x-python",
   "name": "python",
   "nbconvert_exporter": "python",
   "pygments_lexer": "ipython3",
   "version": "3.6.0"
  }
 },
 "nbformat": 4,
 "nbformat_minor": 2
}
