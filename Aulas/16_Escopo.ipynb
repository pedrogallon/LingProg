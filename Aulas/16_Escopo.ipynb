{
 "cells": [
  {
   "cell_type": "code",
   "execution_count": 1,
   "metadata": {},
   "outputs": [],
   "source": [
    "x = 50\n",
    "\n",
    "def printer():\n",
    "    x = 25\n",
    "    return x"
   ]
  },
  {
   "cell_type": "code",
   "execution_count": 2,
   "metadata": {},
   "outputs": [
    {
     "name": "stdout",
     "output_type": "stream",
     "text": [
      "50\n"
     ]
    }
   ],
   "source": [
    "print(x)"
   ]
  },
  {
   "cell_type": "code",
   "execution_count": 3,
   "metadata": {},
   "outputs": [
    {
     "data": {
      "text/plain": [
       "25"
      ]
     },
     "execution_count": 3,
     "metadata": {},
     "output_type": "execute_result"
    }
   ],
   "source": [
    "printer()"
   ]
  },
  {
   "cell_type": "code",
   "execution_count": 6,
   "metadata": {},
   "outputs": [
    {
     "name": "stdout",
     "output_type": "stream",
     "text": [
      "Hello Sammy\n"
     ]
    }
   ],
   "source": [
    "name = \"Variavel Global\"\n",
    "\n",
    "def greet():\n",
    "    \n",
    "    name=\"Sammy\"\n",
    "    \n",
    "    def hello():\n",
    "        print(\"Hello\",name)\n",
    "             \n",
    "    hello()\n",
    "    \n",
    "greet()"
   ]
  },
  {
   "cell_type": "code",
   "execution_count": 9,
   "metadata": {},
   "outputs": [
    {
     "name": "stdout",
     "output_type": "stream",
     "text": [
      "Hello Sammy\n",
      "Variavel Global\n"
     ]
    }
   ],
   "source": [
    "greet()\n",
    "#variavel global\n",
    "print(name)"
   ]
  },
  {
   "cell_type": "code",
   "execution_count": 11,
   "metadata": {},
   "outputs": [
    {
     "name": "stdout",
     "output_type": "stream",
     "text": [
      "x = <function x at 0x7fdfb45d4a60>\n",
      "x local mudada para 2\n",
      "x ainda é <function x at 0x7fdfb45d4a60>\n"
     ]
    }
   ],
   "source": [
    "x=20\n",
    "def x(x):\n",
    "    print(\"x =\",x)\n",
    "    x=2\n",
    "    print(\"x local mudada para\",x)\n",
    "    \n",
    "x(x)\n",
    "print(\"x ainda é\",x)"
   ]
  },
  {
   "cell_type": "code",
   "execution_count": 18,
   "metadata": {},
   "outputs": [
    {
     "name": "stdout",
     "output_type": "stream",
     "text": [
      "x = 20\n",
      "x mudada para 2\n",
      "x fora da func virou 2\n"
     ]
    }
   ],
   "source": [
    "x=20\n",
    "def z():\n",
    "    global x\n",
    "    #essa fucao agora usa um x global. então x = 20\n",
    "    print(\"x =\",x)\n",
    "    x=2\n",
    "    print(\"x mudada para\",x)\n",
    "    \n",
    "z()\n",
    "print(\"x fora da func virou\",x)"
   ]
  },
  {
   "cell_type": "code",
   "execution_count": null,
   "metadata": {},
   "outputs": [],
   "source": []
  }
 ],
 "metadata": {
  "kernelspec": {
   "display_name": "Python 3",
   "language": "python",
   "name": "python3"
  },
  "language_info": {
   "codemirror_mode": {
    "name": "ipython",
    "version": 3
   },
   "file_extension": ".py",
   "mimetype": "text/x-python",
   "name": "python",
   "nbconvert_exporter": "python",
   "pygments_lexer": "ipython3",
   "version": "3.6.3"
  }
 },
 "nbformat": 4,
 "nbformat_minor": 2
}
