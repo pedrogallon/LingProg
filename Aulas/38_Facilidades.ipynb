{
 "cells": [
  {
   "cell_type": "markdown",
   "metadata": {},
   "source": [
    "### collections.namedtuple\n",
    "É uma fiunção do tipo factory, mas não gera objetos, gera classes que precisam ser instanciadas"
   ]
  },
  {
   "cell_type": "code",
   "execution_count": 7,
   "metadata": {},
   "outputs": [
    {
     "name": "stdout",
     "output_type": "stream",
     "text": [
      "Bonato tem 49 anos de idade\n"
     ]
    }
   ],
   "source": [
    "from collections import namedtuple\n",
    "\n",
    "Person = namedtuple(\"Pessoa\", [\"nome\", \"idade\"])\n",
    "professor = Person(nome=\"Bonato\", idade=\"49\")\n",
    "print(\"%s tem %s anos de idade\" %(professor.nome, professor.idade))"
   ]
  },
  {
   "cell_type": "markdown",
   "metadata": {},
   "source": [
    "### collections.OrderedDict\n",
    "Gera um dicionario ordenado, navegavel por FOR numa sequencia fixa baseada na inserção"
   ]
  },
  {
   "cell_type": "code",
   "execution_count": 17,
   "metadata": {},
   "outputs": [
    {
     "name": "stdout",
     "output_type": "stream",
     "text": [
      "Lagarto é um Réptil\n",
      "Baleia é um Mamífero\n"
     ]
    }
   ],
   "source": [
    "from collections import OrderedDict\n",
    "\n",
    "d = OrderedDict([\n",
    "    (\"Lagarto\", \"Réptil\"),\n",
    "    (\"Baleia\", \"Mamífero\")\n",
    "])\n",
    "\n",
    "for especie, classe in d.items():\n",
    "    print(\"%s é um %s\" %(especie, classe))"
   ]
  },
  {
   "cell_type": "markdown",
   "metadata": {},
   "source": [
    "### collections.defaultdict\n",
    "Use defaultdict se você quiser que chaves inexistentes retornem um valor padrão em vez da exception KeyError"
   ]
  },
  {
   "cell_type": "code",
   "execution_count": 18,
   "metadata": {},
   "outputs": [
    {
     "name": "stdout",
     "output_type": "stream",
     "text": [
      "Python\n",
      "PHP\n",
      "sla\n"
     ]
    }
   ],
   "source": [
    "from collections import defaultdict\n",
    "\n",
    "linguagem_preferida = {\n",
    "    \"Bonato\" : \"Python\",\n",
    "    \"Pedro\"  : \"sla\"\n",
    "}\n",
    "\n",
    "d = defaultdict(lambda: 'PHP')\n",
    "d.update(linguagem_preferida)\n",
    "print(d[\"Bonato\"])\n",
    "print(d[\"Ninguem\"])\n",
    "print(d[\"Pedro\"])"
   ]
  },
  {
   "cell_type": "code",
   "execution_count": null,
   "metadata": {},
   "outputs": [],
   "source": []
  }
 ],
 "metadata": {
  "kernelspec": {
   "display_name": "Python 3",
   "language": "python",
   "name": "python3"
  },
  "language_info": {
   "codemirror_mode": {
    "name": "ipython",
    "version": 3
   },
   "file_extension": ".py",
   "mimetype": "text/x-python",
   "name": "python",
   "nbconvert_exporter": "python",
   "pygments_lexer": "ipython3",
   "version": "3.6.5"
  }
 },
 "nbformat": 4,
 "nbformat_minor": 2
}
