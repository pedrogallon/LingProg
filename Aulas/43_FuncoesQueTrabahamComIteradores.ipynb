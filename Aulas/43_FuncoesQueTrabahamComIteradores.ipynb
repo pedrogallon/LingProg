{
 "cells": [
  {
   "cell_type": "code",
   "execution_count": null,
   "metadata": {},
   "outputs": [],
   "source": []
  },
  {
   "cell_type": "markdown",
   "metadata": {},
   "source": [
    "### zip(): Liga elementos de múltiplos iteradores"
   ]
  },
  {
   "cell_type": "markdown",
   "metadata": {},
   "source": [
    "#### Sem zip()"
   ]
  },
  {
   "cell_type": "code",
   "execution_count": 12,
   "metadata": {},
   "outputs": [
    {
     "name": "stdout",
     "output_type": "stream",
     "text": [
      "Baleia é um Mamífero com nivel de fofura 3\n",
      "Lagarto é um Réptil com nivel de fofura 2\n",
      "Formiga é um Inseto com nivel de fofura 1\n"
     ]
    }
   ],
   "source": [
    "lista_especies = [\"Baleia\", \"Lagarto\", \"Formiga\"]\n",
    "lista_classes=   [\"Mamífero\", \"Réptil\", \"Inseto\"]\n",
    "lista_fofura=[3,2,1,0]\n",
    "for i in range(len(lista_especies)):\n",
    "    especie = lista_especies[i]\n",
    "    classe = lista_classes[i]\n",
    "    fofura = lista_fofura[i]\n",
    "    print(\"%s é um %s com nivel de fofura %d\" %(especie, classe, fofura))"
   ]
  },
  {
   "cell_type": "markdown",
   "metadata": {},
   "source": [
    "#### Com zip()"
   ]
  },
  {
   "cell_type": "code",
   "execution_count": 13,
   "metadata": {},
   "outputs": [
    {
     "name": "stdout",
     "output_type": "stream",
     "text": [
      "Baleia é um Mamífero com nivel de fofura 3\n",
      "Lagarto é um Réptil com nivel de fofura 2\n",
      "Formiga é um Inseto com nivel de fofura 1\n"
     ]
    }
   ],
   "source": [
    "for especie, classe, fofura in zip(lista_especies,lista_classes, lista_fofura):\n",
    "    print(\"%s é um %s com nivel de fofura %d\" %(especie, classe, fofura))"
   ]
  },
  {
   "cell_type": "markdown",
   "metadata": {},
   "source": [
    "### map(): aplica uma função para cada elemento de um iterador\n",
    "O primeiro argumento é a função e o segundo é o iterator"
   ]
  },
  {
   "cell_type": "code",
   "execution_count": 17,
   "metadata": {},
   "outputs": [
    {
     "name": "stdout",
     "output_type": "stream",
     "text": [
      "1.0\n",
      "1.0\n",
      "1.4142135623730951\n",
      "1.7320508075688772\n",
      "2.23606797749979\n",
      "2.8284271247461903\n"
     ]
    }
   ],
   "source": [
    "from math import sqrt\n",
    "\n",
    "fib = [1,1,2,3,5,8]\n",
    "for i in map(sqrt, fib):\n",
    "    print(i)"
   ]
  },
  {
   "cell_type": "markdown",
   "metadata": {},
   "source": [
    "### filter()\n",
    "#### sem filter():\n"
   ]
  },
  {
   "cell_type": "code",
   "execution_count": 20,
   "metadata": {},
   "outputs": [
    {
     "name": "stdout",
     "output_type": "stream",
     "text": [
      "2\n",
      "8\n"
     ]
    }
   ],
   "source": [
    "for i in fib:\n",
    "    if i%2:\n",
    "        continue\n",
    "    print(i)"
   ]
  },
  {
   "cell_type": "markdown",
   "metadata": {},
   "source": [
    "#### com filter():"
   ]
  },
  {
   "cell_type": "code",
   "execution_count": 22,
   "metadata": {},
   "outputs": [
    {
     "name": "stdout",
     "output_type": "stream",
     "text": [
      "2\n",
      "8\n"
     ]
    }
   ],
   "source": [
    "for i in filter(lambda i: not i%2, fib):\n",
    "    print(i)"
   ]
  },
  {
   "cell_type": "code",
   "execution_count": null,
   "metadata": {},
   "outputs": [],
   "source": []
  }
 ],
 "metadata": {
  "kernelspec": {
   "display_name": "Python 3",
   "language": "python",
   "name": "python3"
  },
  "language_info": {
   "codemirror_mode": {
    "name": "ipython",
    "version": 3
   },
   "file_extension": ".py",
   "mimetype": "text/x-python",
   "name": "python",
   "nbconvert_exporter": "python",
   "pygments_lexer": "ipython3",
   "version": "3.6.5"
  }
 },
 "nbformat": 4,
 "nbformat_minor": 2
}
