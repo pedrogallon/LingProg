{
 "cells": [
  {
   "cell_type": "markdown",
   "metadata": {},
   "source": [
    "## Exemplo Stateful\n",
    "\n",
    "Neste exemplo, a variável corrent_speaker é stateful, pois estamos mudando seu estado. Já text não, pois não está sendo armazenada, apenas sendo referencia para algo."
   ]
  },
  {
   "cell_type": "code",
   "execution_count": 3,
   "metadata": {
    "collapsed": false
   },
   "outputs": [
    {
     "name": "stdout",
     "output_type": "stream",
     "text": [
      "[Pedrinho] Hola que tal?\n"
     ]
    }
   ],
   "source": [
    "current_speaker = None\n",
    "\n",
    "def register(name):\n",
    "    global current_speaker\n",
    "    current_speaker = name\n",
    "    \n",
    "def speak(text):\n",
    "    print(\"[%s] %s\" %(current_speaker, text))\n",
    "\n",
    "register(\"Pedrinho\")\n",
    "speak(\"Hola que tal?\")"
   ]
  },
  {
   "cell_type": "markdown",
   "metadata": {},
   "source": [
    "## Exemplo Stateful -> Orientado a Objetos"
   ]
  },
  {
   "cell_type": "code",
   "execution_count": 5,
   "metadata": {
    "collapsed": false
   },
   "outputs": [
    {
     "name": "stdout",
     "output_type": "stream",
     "text": [
      "[João] Dahora isso aqui\n",
      "[Carlos] Isso tbm, mas menos\n"
     ]
    }
   ],
   "source": [
    "class Speaker():\n",
    "    def __init__(self, name):\n",
    "        self._name = name\n",
    "    \n",
    "    def speak(self, text):\n",
    "        print('[%s] %s' % (self._name, text))\n",
    "joao = Speaker(\"João\")\n",
    "joao.speak(\"Dahora isso aqui\")\n",
    "carlos = Speaker(\"Carlos\")\n",
    "carlos.speak(\"Isso tbm, mas menos\")"
   ]
  },
  {
   "cell_type": "markdown",
   "metadata": {},
   "source": [
    "## Funções Stateless são triviais"
   ]
  },
  {
   "cell_type": "code",
   "execution_count": 6,
   "metadata": {
    "collapsed": false
   },
   "outputs": [
    {
     "name": "stdout",
     "output_type": "stream",
     "text": [
      "[Pedro] BLERHG\n"
     ]
    }
   ],
   "source": [
    "def speak(name, text):\n",
    "    print('[%s] %s' % (name, text))\n",
    "    \n",
    "speak(\"Pedro\", \"BLERHG\")"
   ]
  },
  {
   "cell_type": "code",
   "execution_count": null,
   "metadata": {
    "collapsed": true
   },
   "outputs": [],
   "source": []
  }
 ],
 "metadata": {
  "kernelspec": {
   "display_name": "Python 3",
   "language": "python",
   "name": "python3"
  },
  "language_info": {
   "codemirror_mode": {
    "name": "ipython",
    "version": 3
   },
   "file_extension": ".py",
   "mimetype": "text/x-python",
   "name": "python",
   "nbconvert_exporter": "python",
   "pygments_lexer": "ipython3",
   "version": "3.6.0"
  }
 },
 "nbformat": 4,
 "nbformat_minor": 2
}
