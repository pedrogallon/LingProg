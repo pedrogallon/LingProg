{
 "cells": [
  {
   "cell_type": "markdown",
   "metadata": {},
   "source": [
    "### SIntaxe basica"
   ]
  },
  {
   "cell_type": "code",
   "execution_count": 3,
   "metadata": {},
   "outputs": [
    {
     "name": "stdout",
     "output_type": "stream",
     "text": [
      "{'Baleia': 'Mamífero', 'Grilo': 'Inseto', 'Lagarto': 'Réptil'}\n"
     ]
    }
   ],
   "source": [
    "##procedural\n",
    "\n",
    "ESPECIES = \"baleia\", \"grilo\", \"lagarto\"\n",
    "\n",
    "CLASSES = \"mamífero\", \"inseto\", \"réptil\"\n",
    "\n",
    "d = {}\n",
    "for especie, classe in zip(ESPECIES, CLASSES):\n",
    "    d[especie.capitalize()] = classe.capitalize()\n",
    "    \n",
    "print(d)"
   ]
  },
  {
   "cell_type": "markdown",
   "metadata": {},
   "source": [
    "### O mesmo com Dict Comprehension"
   ]
  },
  {
   "cell_type": "code",
   "execution_count": 8,
   "metadata": {
    "scrolled": true
   },
   "outputs": [
    {
     "name": "stdout",
     "output_type": "stream",
     "text": [
      "{'Baleia': 'Mamífero', 'Grilo': 'Inseto', 'Lagarto': 'Réptil'}\n"
     ]
    }
   ],
   "source": [
    "d2 = {especie.capitalize():classe.capitalize() for especie, classe in zip(ESPECIES, CLASSES)}\n",
    "print(d2)"
   ]
  },
  {
   "cell_type": "markdown",
   "metadata": {},
   "source": [
    "### FIltrando dict comprehensions"
   ]
  },
  {
   "cell_type": "code",
   "execution_count": 11,
   "metadata": {},
   "outputs": [
    {
     "name": "stdout",
     "output_type": "stream",
     "text": [
      "{'Baleia': 'Mamífero', 'Lagarto': 'Réptil'}\n"
     ]
    }
   ],
   "source": [
    "d = {}\n",
    "for especie, classe in zip(ESPECIES, CLASSES):\n",
    "    if classe == \"inseto\":\n",
    "        continue\n",
    "    d[especie.capitalize()] = classe.capitalize()\n",
    "print(d)"
   ]
  },
  {
   "cell_type": "markdown",
   "metadata": {},
   "source": [
    "### Com dict Comprehension:"
   ]
  },
  {
   "cell_type": "code",
   "execution_count": 12,
   "metadata": {},
   "outputs": [
    {
     "name": "stdout",
     "output_type": "stream",
     "text": [
      "{'baleia': 'mamífero', 'lagarto': 'réptil'}\n"
     ]
    }
   ],
   "source": [
    "d = {\n",
    "    especie : classe for especie, classe in zip(ESPECIES, CLASSES)\n",
    "    if classe != \"inseto\"\n",
    "}\n",
    "print(d)"
   ]
  }
 ],
 "metadata": {
  "kernelspec": {
   "display_name": "Python 3",
   "language": "python",
   "name": "python3"
  },
  "language_info": {
   "codemirror_mode": {
    "name": "ipython",
    "version": 3
   },
   "file_extension": ".py",
   "mimetype": "text/x-python",
   "name": "python",
   "nbconvert_exporter": "python",
   "pygments_lexer": "ipython3",
   "version": "3.6.5"
  }
 },
 "nbformat": 4,
 "nbformat_minor": 2
}
