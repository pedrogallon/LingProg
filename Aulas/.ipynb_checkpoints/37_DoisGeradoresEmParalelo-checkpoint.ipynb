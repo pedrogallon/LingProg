{
 "cells": [
  {
   "cell_type": "code",
   "execution_count": 4,
   "metadata": {},
   "outputs": [
    {
     "name": "stdout",
     "output_type": "stream",
     "text": [
      "1 0\n",
      "1 1\n",
      "2 1\n",
      "3 2\n",
      "5 4\n",
      "8 7\n",
      "13 13\n",
      "21 24\n",
      "34 44\n",
      "55 81\n"
     ]
    }
   ],
   "source": [
    "def fibonacci():\n",
    "    yield 1\n",
    "    yield 1\n",
    "    l = [1,1]\n",
    "    while True:\n",
    "        l = [l[-1], sum(l[-2:])]\n",
    "        yield l[-1]\n",
    "        \n",
    "def tribonacci():\n",
    "    yield 0\n",
    "    yield 1\n",
    "    yield 1\n",
    "    l = [0,1,1]\n",
    "    while True:\n",
    "        l = [l[-2],l[-1], sum(l[-3:])]\n",
    "        yield l[-1]\n",
    "        \n",
    "for i, (f,t) in enumerate(zip(fibonacci(),tribonacci())):\n",
    "    if i == 10:\n",
    "        break\n",
    "    print(f,t)"
   ]
  },
  {
   "cell_type": "markdown",
   "metadata": {},
   "source": [
    "### Fazendo dois Generators se comunicarem"
   ]
  },
  {
   "cell_type": "code",
   "execution_count": 27,
   "metadata": {},
   "outputs": [
    {
     "name": "stdout",
     "output_type": "stream",
     "text": [
      "Recebido: Tua mãe\n",
      "Respondeu: Ta dahora hoje né?\n",
      "Recebido: Loco cara, to bem.\n",
      "Respondeu: Falow\n",
      "Recebido: Tua mãe\n",
      "Respondeu: Falow\n",
      "Recebido: Tua mãe\n",
      "Respondeu: Loco cara, to bem.\n",
      "Recebido: Ta dahora hoje né?\n",
      "Respondeu: Loco cara, to bem.\n",
      "Recebido: Tua mãe\n",
      "Respondeu: Falow\n",
      "Recebido: Loco cara, to bem.\n",
      "Respondeu: Ta dahora hoje né?\n",
      "Recebido: Loco cara, to bem.\n",
      "Respondeu: E aí cara, fmz?\n",
      "Recebido: Tua mãe\n",
      "Respondeu: Falow\n",
      "Recebido: E aí cara, fmz?\n",
      "Respondeu: Tua mãe\n",
      "Recebido: Loco cara, to bem.\n",
      "Respondeu: Tua mãe\n",
      "Recebido: Ta dahora hoje né?\n",
      "Respondeu: Loco cara, to bem.\n",
      "Recebido: Falow\n"
     ]
    }
   ],
   "source": [
    "import random\n",
    "SENTENCES=[\n",
    "    \"E aí cara, fmz?\",\n",
    "    \"Ta dahora hoje né?\",\n",
    "    \"Loco cara, to bem.\",\n",
    "    \"Falow\",\n",
    "    \"Tua mãe\"\n",
    "]\n",
    "\n",
    "def speaker():\n",
    "    while True:\n",
    "        yield random.choice(SENTENCES)\n",
    "        \n",
    "def replier():\n",
    "    while True:\n",
    "        recv = yield\n",
    "        print('Recebido: %s' %(recv))\n",
    "        if recv == 'Falow':\n",
    "            break\n",
    "        print('Respondeu: %s' %(random.choice(SENTENCES)))\n",
    "        \n",
    "s = speaker()\n",
    "r = replier()\n",
    "r.send(None)\n",
    "while True:\n",
    "    recv = s.send(None)\n",
    "    try:\n",
    "        r.send(recv)\n",
    "    except StopIteration:\n",
    "        break"
   ]
  }
 ],
 "metadata": {
  "kernelspec": {
   "display_name": "Python 3",
   "language": "python",
   "name": "python3"
  },
  "language_info": {
   "codemirror_mode": {
    "name": "ipython",
    "version": 3
   },
   "file_extension": ".py",
   "mimetype": "text/x-python",
   "name": "python",
   "nbconvert_exporter": "python",
   "pygments_lexer": "ipython3",
   "version": "3.6.5"
  }
 },
 "nbformat": 4,
 "nbformat_minor": 2
}
