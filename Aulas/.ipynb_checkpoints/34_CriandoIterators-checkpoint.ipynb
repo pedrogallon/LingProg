{
 "cells": [
  {
   "cell_type": "markdown",
   "metadata": {},
   "source": [
    "### Um Iterator é uma classe que implementa pelo menos 2 métodos\n",
    "- \\__iter__()\n",
    "- \\__next__()"
   ]
  },
  {
   "cell_type": "code",
   "execution_count": 16,
   "metadata": {},
   "outputs": [],
   "source": [
    "import random\n",
    "\n",
    "class RandomIterator:\n",
    "    def __init__(self, *elements):\n",
    "        self._elements = list(elements)\n",
    "        \n",
    "    def __iter__(self):\n",
    "        random.shuffle(self._elements)\n",
    "        self._cursor = 0\n",
    "        return self\n",
    "    \n",
    "    def __next__(self):\n",
    "        if self._cursor>= len(self._elements):\n",
    "                raise StopIteration()\n",
    "        e = self._elements[self._cursor]\n",
    "        self._cursor +=1\n",
    "        return e\n",
    "        "
   ]
  },
  {
   "cell_type": "code",
   "execution_count": 17,
   "metadata": {},
   "outputs": [
    {
     "name": "stdout",
     "output_type": "stream",
     "text": [
      "1\n",
      "3\n",
      "2\n",
      "----\n",
      "2\n",
      "3\n",
      "1\n"
     ]
    }
   ],
   "source": [
    "i = RandomIterator(1,2,3)\n",
    "for e in i:\n",
    "    print (e)\n",
    "print(\"----\")\n",
    "for e in i:\n",
    "    print (e)"
   ]
  },
  {
   "cell_type": "code",
   "execution_count": null,
   "metadata": {},
   "outputs": [],
   "source": []
  }
 ],
 "metadata": {
  "kernelspec": {
   "display_name": "Python 3",
   "language": "python",
   "name": "python3"
  },
  "language_info": {
   "codemirror_mode": {
    "name": "ipython",
    "version": 3
   },
   "file_extension": ".py",
   "mimetype": "text/x-python",
   "name": "python",
   "nbconvert_exporter": "python",
   "pygments_lexer": "ipython3",
   "version": "3.6.5"
  }
 },
 "nbformat": 4,
 "nbformat_minor": 2
}
