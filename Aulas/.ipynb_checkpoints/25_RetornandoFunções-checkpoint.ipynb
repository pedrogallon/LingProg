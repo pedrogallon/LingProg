{
 "cells": [
  {
   "cell_type": "markdown",
   "metadata": {},
   "source": [
    "## Quatro passos para fazer pão"
   ]
  },
  {
   "cell_type": "code",
   "execution_count": 1,
   "metadata": {},
   "outputs": [],
   "source": [
    "preaquecer_forno = lambda: print(\"Forno Preaquecido\")\n",
    "colocar_pao = lambda: print(\"Pão Colocado\")\n",
    "esperar_5min = lambda: print(\"Esperados 5 minutos\")\n",
    "tirar_pao = lambda: print(\"Pão Tirado\")"
   ]
  },
  {
   "cell_type": "code",
   "execution_count": 3,
   "metadata": {},
   "outputs": [
    {
     "name": "stdout",
     "output_type": "stream",
     "text": [
      "Forno Preaquecido\n",
      "Pão Colocado\n",
      "Esperados 5 minutos\n",
      "Pão Tirado\n"
     ]
    }
   ],
   "source": [
    "preaquecer_forno()\n",
    "colocar_pao()\n",
    "esperar_5min()\n",
    "tirar_pao()"
   ]
  },
  {
   "cell_type": "markdown",
   "metadata": {},
   "source": [
    "## Usar uma função de execucao (launcher function)"
   ]
  },
  {
   "cell_type": "code",
   "execution_count": 7,
   "metadata": {},
   "outputs": [
    {
     "name": "stdout",
     "output_type": "stream",
     "text": [
      "Forno Preaquecido\n",
      "Pão Colocado\n",
      "Esperados 5 minutos\n",
      "Pão Tirado\n"
     ]
    }
   ],
   "source": [
    "def executar_passos(*funcoes):\n",
    "    for funcao in funcoes:\n",
    "        funcao()\n",
    "        \n",
    "executar_passos(preaquecer_forno, colocar_pao, esperar_5min, tirar_pao)"
   ]
  },
  {
   "cell_type": "code",
   "execution_count": 11,
   "metadata": {},
   "outputs": [
    {
     "name": "stdout",
     "output_type": "stream",
     "text": [
      "Forno Preaquecido\n",
      "Pão Colocado\n",
      "Esperados 5 minutos\n",
      "Pão Tirado\n"
     ]
    }
   ],
   "source": [
    "def criar_receita(*funcoes):\n",
    "    def executar_todas():\n",
    "        for funcao in funcoes:\n",
    "            funcao()\n",
    "    return executar_todas\n",
    "\n",
    "receita = criar_receita(preaquecer_forno, colocar_pao, esperar_5min, tirar_pao)\n",
    "receita()"
   ]
  }
 ],
 "metadata": {
  "kernelspec": {
   "display_name": "Python 3",
   "language": "python",
   "name": "python3"
  },
  "language_info": {
   "codemirror_mode": {
    "name": "ipython",
    "version": 3
   },
   "file_extension": ".py",
   "mimetype": "text/x-python",
   "name": "python",
   "nbconvert_exporter": "python",
   "pygments_lexer": "ipython3",
   "version": "3.6.3"
  }
 },
 "nbformat": 4,
 "nbformat_minor": 2
}
