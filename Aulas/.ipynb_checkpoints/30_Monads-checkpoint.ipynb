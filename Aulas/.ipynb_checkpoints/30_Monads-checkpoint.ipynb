{
 "cells": [
  {
   "cell_type": "markdown",
   "metadata": {},
   "source": [
    "## Monags: variáveis que decidem como querem ser tratadas"
   ]
  },
  {
   "cell_type": "markdown",
   "metadata": {},
   "source": [
    "Definindo uma função camelCase, que transforma \"uma_string_como_essa\" em \"UmaStringComoEssa\" "
   ]
  },
  {
   "cell_type": "code",
   "execution_count": 3,
   "metadata": {
    "collapsed": false,
    "scrolled": true
   },
   "outputs": [
    {
     "name": "stdout",
     "output_type": "stream",
     "text": [
      "AlgumaFuncInteressante\n"
     ]
    }
   ],
   "source": [
    "def camelcase(s):\n",
    "    return \"\".join([w.capitalize() for w in s.split(\"_\")])\n",
    "\n",
    "print(camelcase(\"alguma_func_interessante\"))"
   ]
  },
  {
   "cell_type": "markdown",
   "metadata": {},
   "source": [
    "#### ---- Como funciona"
   ]
  },
  {
   "cell_type": "code",
   "execution_count": 4,
   "metadata": {
    "collapsed": true
   },
   "outputs": [],
   "source": [
    "s = \"alguma_func_legal\""
   ]
  },
  {
   "cell_type": "code",
   "execution_count": 6,
   "metadata": {
    "collapsed": false
   },
   "outputs": [
    {
     "data": {
      "text/plain": [
       "['alguma', 'func', 'legal']"
      ]
     },
     "execution_count": 6,
     "metadata": {},
     "output_type": "execute_result"
    }
   ],
   "source": [
    "s.split(\"_\")"
   ]
  },
  {
   "cell_type": "code",
   "execution_count": 9,
   "metadata": {
    "collapsed": false
   },
   "outputs": [
    {
     "data": {
      "text/plain": [
       "['Alguma', 'Func', 'Legal']"
      ]
     },
     "execution_count": 9,
     "metadata": {},
     "output_type": "execute_result"
    }
   ],
   "source": [
    "[w.capitalize() for w in s.split(\"_\")]"
   ]
  },
  {
   "cell_type": "code",
   "execution_count": 12,
   "metadata": {
    "collapsed": false,
    "scrolled": true
   },
   "outputs": [
    {
     "data": {
      "text/plain": [
       "'AlgumaFuncLegal'"
      ]
     },
     "execution_count": 12,
     "metadata": {},
     "output_type": "execute_result"
    }
   ],
   "source": [
    "\"\".join([w.capitalize() for w in s.split(\"_\")])"
   ]
  },
  {
   "cell_type": "markdown",
   "metadata": {},
   "source": [
    "#### ---- Fim Como Funciona"
   ]
  },
  {
   "cell_type": "markdown",
   "metadata": {},
   "source": [
    "## Maybe Monad\n",
    "A \"Maybe Monad\" consiste de dois tipos de dados, que tipicamente são chamados Just e Nothing.\n",
    "Ambos se comportam de uma maneira muito simples:\n",
    "- Quando uma função é vinculada  a um valor Just, a função é simplesmente executada e o resultado é armazenado em um novo valor Just\n",
    "- Quando a função é vinculada a um valor Nothing, a função é bypassed e Nothing é retornado\n",
    "- Quando uma função gera um erro, ela retorn um Nothing"
   ]
  },
  {
   "cell_type": "code",
   "execution_count": 20,
   "metadata": {
    "collapsed": false
   },
   "outputs": [
    {
     "name": "stdout",
     "output_type": "stream",
     "text": [
      "AlgumaFuncao\n",
      "Nothing\n",
      "Nothing\n"
     ]
    }
   ],
   "source": [
    "class Just:\n",
    "    def __init__(self, value):\n",
    "        self._value = value\n",
    "        \n",
    "    def bind(self, fnc):\n",
    "        try:\n",
    "            return Just(fnc(self._value))\n",
    "        except:\n",
    "            return Nothing()\n",
    "        \n",
    "    def __repr__(self):\n",
    "        return self._value\n",
    "        \n",
    "        \n",
    "class Nothing:\n",
    "    def bind(self,fnc):\n",
    "        return Nothing()\n",
    "    \n",
    "    def __repr__(self):\n",
    "        return \"Nothing\"\n",
    "    \n",
    "print(Just(\"alguma_funcao\").bind(camelcase))\n",
    "print(Nothing().bind(camelcase))\n",
    "print(Just(10).bind(camelcase))"
   ]
  },
  {
   "cell_type": "markdown",
   "metadata": {},
   "source": [
    "## List Monad\n",
    "A List Monad armazena uma lista de valores. Quando é vinculada a uma função, cada valor é parrado para a função separadamente e o resultado é armazenado em uma outra list"
   ]
  },
  {
   "cell_type": "code",
   "execution_count": 25,
   "metadata": {
    "collapsed": false
   },
   "outputs": [
    {
     "data": {
      "text/plain": [
       "['AlgumTexto', 'MaisOutroAqui']"
      ]
     },
     "execution_count": 25,
     "metadata": {},
     "output_type": "execute_result"
    }
   ],
   "source": [
    "class List:\n",
    "    def __init__(self, values):\n",
    "        self._values= values\n",
    "        \n",
    "    def bind(self, fnc):\n",
    "        return List([fnc(value) for value in self._values])\n",
    "    \n",
    "    def __repr__(self):\n",
    "        return str(self._values)\n",
    "    \n",
    "List([\"algum_texto\", \"mais_outro_aqui\"]).bind(camelcase)\n"
   ]
  }
 ],
 "metadata": {
  "kernelspec": {
   "display_name": "Python 3",
   "language": "python",
   "name": "python3"
  },
  "language_info": {
   "codemirror_mode": {
    "name": "ipython",
    "version": 3
   },
   "file_extension": ".py",
   "mimetype": "text/x-python",
   "name": "python",
   "nbconvert_exporter": "python",
   "pygments_lexer": "ipython3",
   "version": "3.6.0"
  }
 },
 "nbformat": 4,
 "nbformat_minor": 2
}
