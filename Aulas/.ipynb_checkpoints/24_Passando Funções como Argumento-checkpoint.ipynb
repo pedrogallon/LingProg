{
 "cells": [
  {
   "cell_type": "markdown",
   "metadata": {},
   "source": [
    "## Começando com a função fatorial"
   ]
  },
  {
   "cell_type": "code",
   "execution_count": 3,
   "metadata": {},
   "outputs": [],
   "source": [
    "l_fatorial = lambda n: 1 if n == 0 else n * l_fatorial(n-1)"
   ]
  },
  {
   "cell_type": "markdown",
   "metadata": {},
   "source": [
    "## Medindo o tempo, modo procedural "
   ]
  },
  {
   "cell_type": "code",
   "execution_count": 15,
   "metadata": {},
   "outputs": [
    {
     "name": "stdout",
     "output_type": "stream",
     "text": [
      "Tempo de execução 0.0017216205596923828\n",
      "media: 0.000287\n",
      "total: 2.874313\n"
     ]
    }
   ],
   "source": [
    "import time\n",
    "\n",
    "t0 = time.time()\n",
    "\n",
    "l_fatorial(900)\n",
    "\n",
    "t1 = time.time()\n",
    "\n",
    "print (f\"Tempo de execução {t1-t0}\")\n",
    "\n",
    "\n",
    "q = 10000\n",
    "i = 0\n",
    "total = 0\n",
    "\n",
    "tt0 = time.time()\n",
    "while(i<q):\n",
    "    \n",
    "    t0 = time.time()\n",
    "    l_fatorial(900)\n",
    "    t1 = time.time()\n",
    "    total+= t1-t0\n",
    "    i+=1\n",
    "tt1 = time.time()\n",
    "\n",
    "    \n",
    "print(\"media: %f\" %(total/i))\n",
    "print(\"total: %f\" %(tt1-tt0))"
   ]
  },
  {
   "cell_type": "markdown",
   "metadata": {},
   "source": [
    "## Medindo o tempo, modo funcional com função empacotadora"
   ]
  },
  {
   "cell_type": "code",
   "execution_count": 14,
   "metadata": {},
   "outputs": [
    {
     "name": "stdout",
     "output_type": "stream",
     "text": [
      "Tempo de execução 0.0004875659942626953\n",
      "media: 0.000281\n",
      "total: 2.811972\n"
     ]
    }
   ],
   "source": [
    "def timer(fnc, arg):\n",
    "    t0 = time.time()\n",
    "    fnc(arg)\n",
    "    t1 = time.time()\n",
    "    return t1-t0\n",
    "\n",
    "print (f\"Tempo de execução {timer(l_fatorial, 900)}\")\n",
    "\n",
    "q = 10000\n",
    "i = 0\n",
    "total = 0\n",
    "tt0 = time.time()\n",
    "while(i<q):\n",
    "    total+= timer(l_fatorial, 900)\n",
    "    i+=1\n",
    "    \n",
    "tt1 = time.time()\n",
    "    \n",
    "\n",
    "print(\"media: %f\" %(total/i))\n",
    "print(\"total: %f\" %(tt1-tt0))"
   ]
  }
 ],
 "metadata": {
  "kernelspec": {
   "display_name": "Python 3",
   "language": "python",
   "name": "python3"
  },
  "language_info": {
   "codemirror_mode": {
    "name": "ipython",
    "version": 3
   },
   "file_extension": ".py",
   "mimetype": "text/x-python",
   "name": "python",
   "nbconvert_exporter": "python",
   "pygments_lexer": "ipython3",
   "version": "3.6.3"
  }
 },
 "nbformat": 4,
 "nbformat_minor": 2
}
