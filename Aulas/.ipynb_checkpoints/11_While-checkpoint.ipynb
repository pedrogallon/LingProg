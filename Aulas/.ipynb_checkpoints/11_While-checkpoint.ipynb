{
 "cells": [
  {
   "cell_type": "code",
   "execution_count": 7,
   "metadata": {},
   "outputs": [
    {
     "name": "stdout",
     "output_type": "stream",
     "text": [
      "x:  0\n",
      "x:  1\n",
      "x:  2\n",
      "x:  3\n",
      "x:  4\n"
     ]
    }
   ],
   "source": [
    "x = 0\n",
    "while x <5:\n",
    "    print(\"x: \",x)\n",
    "    x+=1"
   ]
  },
  {
   "cell_type": "code",
   "execution_count": 8,
   "metadata": {},
   "outputs": [
    {
     "name": "stdout",
     "output_type": "stream",
     "text": [
      "x:  0\n",
      "x:  1\n",
      "x:  2\n",
      "x:  3\n",
      "x:  4\n",
      "encerrado\n"
     ]
    }
   ],
   "source": [
    "x = 0\n",
    "while x <5:\n",
    "    print(\"x: \",x)\n",
    "    x+=1\n",
    "print(\"encerrado\")"
   ]
  },
  {
   "cell_type": "code",
   "execution_count": 19,
   "metadata": {},
   "outputs": [
    {
     "name": "stdout",
     "output_type": "stream",
     "text": [
      "Comeco:  0\n",
      "Fim:     1\n",
      "Comeco:  1\n",
      "Fim:     N\n",
      "Comeco:  2\n",
      "Fim:     3\n",
      "Comeco:  3\n",
      "Fim:     N\n",
      "Comeco:  4\n",
      "Fim:     5\n",
      "Comeco:  5\n",
      "Fim:     N\n",
      "Comeco:  6\n",
      "Fim:     7\n",
      "Comeco:  7\n",
      "Fim:     N\n",
      "Comeco:  8\n",
      "Fim:     9\n",
      "Comeco:  9\n",
      "Fim:     N\n",
      "Comeco:  10\n",
      "encerrado\n"
     ]
    }
   ],
   "source": [
    "x = 0\n",
    "while True:\n",
    "    print(\"Comeco: \",x)\n",
    "    x+=1\n",
    "    if x%2 == 0:\n",
    "        print(\"Fim:     N\")\n",
    "        continue\n",
    "    if x>= 10:\n",
    "        break\n",
    "    print(\"Fim:    \",x)\n",
    "print(\"encerrado\")    "
   ]
  },
  {
   "cell_type": "code",
   "execution_count": null,
   "metadata": {
    "collapsed": true
   },
   "outputs": [],
   "source": []
  }
 ],
 "metadata": {
  "kernelspec": {
   "display_name": "Python 3",
   "language": "python",
   "name": "python3"
  },
  "language_info": {
   "codemirror_mode": {
    "name": "ipython",
    "version": 3
   },
   "file_extension": ".py",
   "mimetype": "text/x-python",
   "name": "python",
   "nbconvert_exporter": "python",
   "pygments_lexer": "ipython3",
   "version": "3.6.3"
  }
 },
 "nbformat": 4,
 "nbformat_minor": 2
}
