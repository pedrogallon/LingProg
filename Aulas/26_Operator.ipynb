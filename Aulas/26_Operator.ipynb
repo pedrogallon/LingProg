{
 "cells": [
  {
   "cell_type": "code",
   "execution_count": 2,
   "metadata": {},
   "outputs": [
    {
     "data": {
      "text/plain": [
       "6"
      ]
     },
     "execution_count": 2,
     "metadata": {},
     "output_type": "execute_result"
    }
   ],
   "source": [
    "l_fatorial = lambda n: 1 if n == 0 else n*l_fatorial(n-1)\n",
    "l_fatorial(3)"
   ]
  },
  {
   "cell_type": "markdown",
   "metadata": {},
   "source": [
    "## Encadeando funções e combinando valores de retorno"
   ]
  },
  {
   "cell_type": "code",
   "execution_count": 7,
   "metadata": {},
   "outputs": [
    {
     "data": {
      "text/plain": [
       "72"
      ]
     },
     "execution_count": 7,
     "metadata": {},
     "output_type": "execute_result"
    }
   ],
   "source": [
    "def multi_em_cadeia(*oque):\n",
    "    \n",
    "    total = 1\n",
    "    \n",
    "    for (fnc, arg) in oque:\n",
    "        total *= fnc(arg)\n",
    "    return total\n",
    "\n",
    "\n",
    "multi_em_cadeia((l_fatorial,2), (l_fatorial,3),(l_fatorial,3))"
   ]
  },
  {
   "cell_type": "markdown",
   "metadata": {},
   "source": [
    "## Executando qualquer operação"
   ]
  },
  {
   "cell_type": "code",
   "execution_count": 19,
   "metadata": {},
   "outputs": [
    {
     "name": "stdout",
     "output_type": "stream",
     "text": [
      "Multiplicação: 72\n",
      "Divisão: 0.013889\n"
     ]
    }
   ],
   "source": [
    "import operator\n",
    "\n",
    "def op_em_cadeia(como, *oque):\n",
    "    \n",
    "    total = 1\n",
    "    \n",
    "    for (fnc, arg) in oque:\n",
    "        total = como(total, fnc(arg))\n",
    "    return total\n",
    "\n",
    "print(\"Multiplicação: %d\" %(op_em_cadeia(operator.mul,(l_fatorial,2), (l_fatorial,3),(l_fatorial,3) )))\n",
    "\n",
    "print(\"Divisão: %f\" %(op_em_cadeia(operator.truediv,(l_fatorial,2), (l_fatorial,3),(l_fatorial,3) )))"
   ]
  }
 ],
 "metadata": {
  "kernelspec": {
   "display_name": "Python 3",
   "language": "python",
   "name": "python3"
  },
  "language_info": {
   "codemirror_mode": {
    "name": "ipython",
    "version": 3
   },
   "file_extension": ".py",
   "mimetype": "text/x-python",
   "name": "python",
   "nbconvert_exporter": "python",
   "pygments_lexer": "ipython3",
   "version": "3.6.3"
  }
 },
 "nbformat": 4,
 "nbformat_minor": 2
}
