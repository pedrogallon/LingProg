{
 "cells": [
  {
   "cell_type": "code",
   "execution_count": 1,
   "metadata": {
    "collapsed": false
   },
   "outputs": [
    {
     "name": "stdout",
     "output_type": "stream",
     "text": [
      "Vou inserir rsrsr nesta pora\n"
     ]
    }
   ],
   "source": [
    "print(\"Vou inserir %s nesta pora\" %\"rsrsr\")"
   ]
  },
  {
   "cell_type": "code",
   "execution_count": 5,
   "metadata": {
    "collapsed": false
   },
   "outputs": [
    {
     "name": "stdout",
     "output_type": "stream",
     "text": [
      "Vou inserir rsrsr nesta pora, e outra e +1\n"
     ]
    }
   ],
   "source": [
    "print(\"Vou inserir %s nesta pora, e %s e %s\" %(\"rsrsr\",\"outra\",\"+1\"))"
   ]
  },
  {
   "cell_type": "code",
   "execution_count": 6,
   "metadata": {
    "collapsed": false
   },
   "outputs": [
    {
     "name": "stdout",
     "output_type": "stream",
     "text": [
      "Vou inserir xxx nesta pora, e yyy e zzz\n"
     ]
    }
   ],
   "source": [
    "x=\"xxx\"\n",
    "y=\"yyy\"\n",
    "z=\"zzz\"\n",
    "\n",
    "\n",
    "print(\"Vou inserir %s nesta pora, e %s e %s\" %(x,y,z))"
   ]
  },
  {
   "cell_type": "code",
   "execution_count": 8,
   "metadata": {
    "collapsed": false
   },
   "outputs": [
    {
     "name": "stdout",
     "output_type": "stream",
     "text": [
      "Número decimal: 13.14\n"
     ]
    }
   ],
   "source": [
    "print(\"Número decimal: %5.2f\" %13.144)"
   ]
  },
  {
   "cell_type": "code",
   "execution_count": 9,
   "metadata": {
    "collapsed": false
   },
   "outputs": [
    {
     "data": {
      "text/plain": [
       "'% 5.2f = 5 casas no max, 2 decimais, f = float'"
      ]
     },
     "execution_count": 9,
     "metadata": {},
     "output_type": "execute_result"
    }
   ],
   "source": [
    "\"% 5.2f = 5 casas no max, 2 decimais, f = float\""
   ]
  },
  {
   "cell_type": "code",
   "execution_count": 10,
   "metadata": {
    "collapsed": false
   },
   "outputs": [
    {
     "data": {
      "text/plain": [
       "'s = stirng, f = float, d = decimal ou int'"
      ]
     },
     "execution_count": 10,
     "metadata": {},
     "output_type": "execute_result"
    }
   ],
   "source": [
    "\"s = stirng, f = float, d = decimal ou int\""
   ]
  },
  {
   "cell_type": "code",
   "execution_count": 11,
   "metadata": {
    "collapsed": false
   },
   "outputs": [
    {
     "name": "stdout",
     "output_type": "stream",
     "text": [
      "Numero inteiro: 123\n"
     ]
    }
   ],
   "source": [
    "print(\"Numero inteiro: %d\" %123)"
   ]
  },
  {
   "cell_type": "code",
   "execution_count": 12,
   "metadata": {
    "collapsed": false
   },
   "outputs": [
    {
     "data": {
      "text/plain": [
       "'Numero inteiro: 123'"
      ]
     },
     "execution_count": 12,
     "metadata": {},
     "output_type": "execute_result"
    }
   ],
   "source": [
    "\"Numero inteiro: %d\" %123"
   ]
  },
  {
   "cell_type": "code",
   "execution_count": 18,
   "metadata": {
    "collapsed": false
   },
   "outputs": [
    {
     "name": "stdout",
     "output_type": "stream",
     "text": [
      "1º: String\n",
      "2º: 12345.00\n",
      "3º: 1234\n"
     ]
    }
   ],
   "source": [
    "print(\"1º: %s\\n2º: %6.2f\\n3º: %4d\" %(\"String\", 12345, 1234))"
   ]
  },
  {
   "cell_type": "code",
   "execution_count": 20,
   "metadata": {
    "collapsed": false
   },
   "outputs": [
    {
     "name": "stdout",
     "output_type": "stream",
     "text": [
      "1º: String\n",
      "2º: 123.45\n",
      "3º: 1234\n"
     ]
    }
   ],
   "source": [
    "print(\"1º: \"+\"String\"+\"\\n2º: \"+str(123.45)+\"\\n3º: \"+str(1234))"
   ]
  },
  {
   "cell_type": "code",
   "execution_count": 24,
   "metadata": {
    "collapsed": false
   },
   "outputs": [
    {
     "name": "stdout",
     "output_type": "stream",
     "text": [
      "Tanbem dá pra fazer as coisas assim, com colchetes\n"
     ]
    }
   ],
   "source": [
    "print(\"Tanbem dá pra fazer {} assim, com colchetes\" .format(\"as coisas\"))"
   ]
  },
  {
   "cell_type": "code",
   "execution_count": 26,
   "metadata": {
    "collapsed": false
   },
   "outputs": [
    {
     "name": "stdout",
     "output_type": "stream",
     "text": [
      "Dá pra ordenar assim: 2, 0, 1\n"
     ]
    }
   ],
   "source": [
    "print(\"Dá pra ordenar assim: {2}, {0}, {1}\".format(\"0\", \"1\", \"2\"))"
   ]
  },
  {
   "cell_type": "code",
   "execution_count": 36,
   "metadata": {
    "collapsed": false
   },
   "outputs": [
    {
     "name": "stdout",
     "output_type": "stream",
     "text": [
      "Essas coisas fazem o espaçamento\n",
      "Fruta    | Quantidade\n",
      "Maçã     |       3.0\n",
      "Laranja  |        10\n"
     ]
    }
   ],
   "source": [
    "print(\"Essas coisas fazem o espaçamento\")\n",
    "print(\"{0:8} | {1:9}\".format(\"Fruta\", \"Quantidade\"))\n",
    "print(\"{0:8} | {1:9}\".format(\"Maçã\", 3.))\n",
    "print(\"{0:8} | {1:9}\".format(\"Laranja\", 10))"
   ]
  },
  {
   "cell_type": "code",
   "execution_count": 35,
   "metadata": {
    "collapsed": false
   },
   "outputs": [
    {
     "name": "stdout",
     "output_type": "stream",
     "text": [
      "<, ^ e > alinham os paranaues\n",
      "     Fruta | Quantidade | Quantidade\n",
      "      Maçã |    3.0     | 3.0       \n",
      "   Laranja |     10     | 10        \n"
     ]
    }
   ],
   "source": [
    "print(\"<, ^ e > alinham os paranaues\")\n",
    "print(\"{0:>10} | {1:^10} | {1:<10}\".format(\"Fruta\", \"Quantidade\", \"Haha\"))\n",
    "print(\"{0:>10} | {1:^10} | {1:<10}\".format(\"Maçã\", 3., \"Nosfa qlegau\"))\n",
    "print(\"{0:>10} | {1:^10} | {1:<10}\".format(\"Laranja\", 10, \"HelloRsrs\"))"
   ]
  },
  {
   "cell_type": "code",
   "execution_count": 54,
   "metadata": {
    "collapsed": false
   },
   "outputs": [
    {
     "name": "stdout",
     "output_type": "stream",
     "text": [
      "pode preencher c essas coisa, qualquer caracter pelo jeito\n",
      "Fruta===== | Quantidade | Quantidade\n",
      "======Maçã | ---------3 | xxxx3xxxxx\n",
      "=Laranja== | ----10---- | ........10\n"
     ]
    }
   ],
   "source": [
    "print(\"pode preencher c essas coisa, qualquer caracter pelo jeito\")\n",
    "print(\"{0:=<10} | {1:-<10} | {1:.<10}\".format(\"Fruta\", \"Quantidade\", \"Haha\"))\n",
    "print(\"{0:=>10} | {1:->10} | {1:x^10}\".format(\"Maçã\", \"3\", \"Nosfa qlegau\"))\n",
    "print(\"{0:=^10} | {1:-^10} | {1:.>10}\".format(\"Laranja\", \"10\", \"HelloRsrs\"))"
   ]
  },
  {
   "cell_type": "code",
   "execution_count": null,
   "metadata": {
    "collapsed": true
   },
   "outputs": [],
   "source": []
  }
 ],
 "metadata": {
  "kernelspec": {
   "display_name": "Python 3",
   "language": "python",
   "name": "python3"
  },
  "language_info": {
   "codemirror_mode": {
    "name": "ipython",
    "version": 3
   },
   "file_extension": ".py",
   "mimetype": "text/x-python",
   "name": "python",
   "nbconvert_exporter": "python",
   "pygments_lexer": "ipython3",
   "version": "3.6.0"
  }
 },
 "nbformat": 4,
 "nbformat_minor": 2
}
