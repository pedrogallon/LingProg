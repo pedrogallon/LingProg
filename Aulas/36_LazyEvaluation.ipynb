{
 "cells": [
  {
   "cell_type": "markdown",
   "metadata": {},
   "source": [
    "### Eager Evaluation\n",
    "Considere uma função que gere a sequência de Fibonacci de um tamanho n.\n",
    "A implementação abaixo é eager pois gera toda a sequencia e a mantém na memória."
   ]
  },
  {
   "cell_type": "code",
   "execution_count": 6,
   "metadata": {},
   "outputs": [
    {
     "name": "stdout",
     "output_type": "stream",
     "text": [
      "[1, 1, 2, 3, 5, 8, 13, 21, 34, 55]\n"
     ]
    }
   ],
   "source": [
    "def eager_fibonacci(n):\n",
    "    l = [1,1]\n",
    "    for i in range(n-2):\n",
    "        l.append(sum(l[-2:]))\n",
    "    return l\n",
    "\n",
    "print(eager_fibonacci(10))"
   ]
  },
  {
   "cell_type": "markdown",
   "metadata": {},
   "source": [
    "### Lazy Evaluation\n",
    "Vamos usar um Generator que mantém na memória apenas dois números da sequência e gera um número de cada vez."
   ]
  },
  {
   "cell_type": "code",
   "execution_count": 7,
   "metadata": {},
   "outputs": [
    {
     "name": "stdout",
     "output_type": "stream",
     "text": [
      "1\n",
      "1\n",
      "2\n",
      "3\n",
      "5\n",
      "8\n",
      "13\n",
      "21\n",
      "34\n",
      "55\n"
     ]
    }
   ],
   "source": [
    "def lazy_fibonacci():\n",
    "    yield 1\n",
    "    yield 1\n",
    "    l = [1,1]\n",
    "    while True:\n",
    "        l = [l[-1], sum(l[-2:])]\n",
    "        yield l[-1]\n",
    "        \n",
    "for i, f in enumerate(lazy_fibonacci()):\n",
    "    if i == 10:\n",
    "        break\n",
    "    print(f)"
   ]
  }
 ],
 "metadata": {
  "kernelspec": {
   "display_name": "Python 3",
   "language": "python",
   "name": "python3"
  },
  "language_info": {
   "codemirror_mode": {
    "name": "ipython",
    "version": 3
   },
   "file_extension": ".py",
   "mimetype": "text/x-python",
   "name": "python",
   "nbconvert_exporter": "python",
   "pygments_lexer": "ipython3",
   "version": "3.6.5"
  }
 },
 "nbformat": 4,
 "nbformat_minor": 2
}
