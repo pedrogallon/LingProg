{
 "cells": [
  {
   "cell_type": "markdown",
   "metadata": {},
   "source": [
    "1 Implemente um gerador infinito de números primos.\n",
    "Ex:\n",
    "i = 0\n",
    "while i < 10:\n",
    "print(gera_primos())\n",
    "i += 1\n",
    "Este código imprime os 10 primeiros números primos, isto é: 1, 2, 3, 5, 7, 11, 13, 17,\n",
    "19, 23."
   ]
  },
  {
   "cell_type": "code",
   "execution_count": 1,
   "metadata": {},
   "outputs": [
    {
     "name": "stdout",
     "output_type": "stream",
     "text": [
      "1\n",
      "2\n",
      "3\n",
      "5\n",
      "7\n",
      "11\n",
      "13\n",
      "17\n",
      "19\n",
      "23\n"
     ]
    }
   ],
   "source": [
    "import math\n",
    "\n",
    "def primo():\n",
    "    \n",
    "    count = 1\n",
    "    \n",
    "    while True:\n",
    "        \n",
    "        primo = True\n",
    "        \n",
    "        for x in range(2, int(math.sqrt(count) + 1)):\n",
    "            if count % x == 0: \n",
    "                primo = False\n",
    "                break\n",
    "        \n",
    "        if primo:\n",
    "            \n",
    "            yield str(count)\n",
    "            \n",
    "        \n",
    "        count += 1 \n",
    "        \n",
    "p = primo()\n",
    "i = 0\n",
    "while i < 10:\n",
    "    print(next(p))\n",
    "    i += 1"
   ]
  },
  {
   "cell_type": "markdown",
   "metadata": {},
   "source": [
    "2 Implementar um gerador que leia um arquivo e retorne uma lista de tuplas com os\n",
    "dados (o separador de campo do arquivo é virgula), eliminando as linhas vazias. Caso\n",
    "ocorra algum problema, imprima uma mensagem de aviso e encerre o programa.\n",
    "Use o exemplo abaixo como arquivo de entrada:\n",
    "Ex:\n",
    "Entrada:\n",
    "teste.txt\n",
    "1,vermelho,2,verde,3,amarelo,4,roxo\n",
    "5,verde,6,preto,7,laranja,8,amarelo\n",
    "9,preto,10,roxo,11,roxo,12,branco\n",
    "Chamada:\n",
    "gera_tupla(teste.txt)\n",
    "Retorno:\n",
    "[(1,'vermelho'),(2,'verde'),(3,'amarelo'),(4,'roxo'),(5,'verde\n",
    "'),(6,'preto'),(7,'laranja'),(8,'amarelo'),(9,'preto'),(10,'ro\n",
    "xo'),(11,'roxo'),(12,'branco')]"
   ]
  },
  {
   "cell_type": "code",
   "execution_count": 16,
   "metadata": {},
   "outputs": [
    {
     "name": "stdout",
     "output_type": "stream",
     "text": [
      "{'1': 'vermelho', '2': 'verde', '3': 'amarelo', '4': 'roxo', '5': 'verde', '6': 'preto', '7': 'laranja', '8': 'amarelo', '9': 'preto', '10': 'roxo', '11': 'roxo', '12': 'branco'}\n"
     ]
    }
   ],
   "source": [
    "def leArquivo(t):\n",
    "    r = {}\n",
    "    s = t.split(\",\")\n",
    "    for x in range(0,len(s), 2):\n",
    "        r[s[x]] = s[x+1]\n",
    "            \n",
    "    return r\n",
    "\n",
    "txt = \"1,vermelho,2,verde,3,amarelo,4,roxo,5,verde,6,preto,7,laranja,8,amarelo,9,preto,10,roxo,11,roxo,12,branco\"\n",
    "tupla = leArquivo(txt)\n",
    "print(tupla)"
   ]
  },
  {
   "cell_type": "markdown",
   "metadata": {},
   "source": [
    "4 Escreva um generator que crie um fluxo infinito de inteiros a partir de um valor\n",
    "inicial dado com passo 5.\n",
    "Ex: gera_inteiros(7) = 12, 17, 22, 27, ..."
   ]
  },
  {
   "cell_type": "code",
   "execution_count": 34,
   "metadata": {},
   "outputs": [
    {
     "name": "stdout",
     "output_type": "stream",
     "text": [
      "12\n",
      "17\n",
      "22\n",
      "27\n",
      "32\n",
      "37\n",
      "42\n",
      "47\n",
      "52\n",
      "57\n"
     ]
    }
   ],
   "source": [
    "def step5(n):\n",
    "    n\n",
    "    while True:\n",
    "        n+=5\n",
    "        yield n\n",
    "                \n",
    "s = step5(7)\n",
    "i = 0\n",
    "while i < 10:\n",
    "    print(next(s))\n",
    "    i += 1"
   ]
  },
  {
   "cell_type": "markdown",
   "metadata": {},
   "source": [
    "5 Estenda o generator do exercício 4 em uma coroutine que permita que a mudança\n",
    "do passo seja feita de fora (use send()).\n",
    "Ex: gera_inteiros_flex(7) = 12, 17, 22, 24, 26, 28, 30...\n",
    "Entre 22 e 24 o passo foi alterado de 5 para 2."
   ]
  },
  {
   "cell_type": "code",
   "execution_count": 10,
   "metadata": {},
   "outputs": [
    {
     "name": "stdout",
     "output_type": "stream",
     "text": [
      "9\n",
      "11\n",
      "13\n",
      "15\n",
      "17\n",
      "22\n",
      "27\n",
      "32\n",
      "37\n",
      "42\n"
     ]
    }
   ],
   "source": [
    "def stepX(n):\n",
    "    while True:\n",
    "        x = yield\n",
    "        n+=x\n",
    "        print(n)\n",
    "        \n",
    "        \n",
    "s = stepX(7)\n",
    "s.send(None)\n",
    "x = 2\n",
    "\n",
    "i = 0\n",
    "while i < 5:\n",
    "\n",
    "    s.send(x)\n",
    "    i += 1\n",
    "    \n",
    "\n",
    "\n",
    "x = 5\n",
    "i = 0\n",
    "while i < 5:\n",
    "    s.send(x)\n",
    "    i += 1"
   ]
  }
 ],
 "metadata": {
  "kernelspec": {
   "display_name": "Python 3",
   "language": "python",
   "name": "python3"
  },
  "language_info": {
   "codemirror_mode": {
    "name": "ipython",
    "version": 3
   },
   "file_extension": ".py",
   "mimetype": "text/x-python",
   "name": "python",
   "nbconvert_exporter": "python",
   "pygments_lexer": "ipython3",
   "version": "3.6.5"
  }
 },
 "nbformat": 4,
 "nbformat_minor": 2
}
