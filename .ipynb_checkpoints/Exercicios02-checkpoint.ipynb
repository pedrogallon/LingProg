{
 "cells": [
  {
   "cell_type": "markdown",
   "metadata": {},
   "source": [
    "### 1 Crie um programa que recebe uma lista de números e\n",
    "- retorne o maior elemento\n",
    "- retorne a soma dos elementos\n",
    "- retorne o número de ocorrências do primeiro elemento da lista\n",
    "- retorne a média dos elementos\n",
    "- retorne o valor mais próximo da média dos elementos\n",
    "- retorne a soma dos elementos com valor negativo\n",
    "- retorne a quantidade de vizinhos iguais"
   ]
  },
  {
   "cell_type": "code",
   "execution_count": 13,
   "metadata": {},
   "outputs": [
    {
     "name": "stdout",
     "output_type": "stream",
     "text": [
      "Maior: 8\n",
      "Soma: 47\n",
      "Ocorrencias do 1º: 3\n",
      "Media: 2.611111\n",
      "Valor mais proximo da media: 3\n",
      "Soma dos negativos: -10\n",
      "Vizinhos iguais (pares): 3\n"
     ]
    }
   ],
   "source": [
    "l = [ 6, 2 ,2 ,4 , 6, 6, 5, 1, -2 , 3, 2, 3, -6, 8, 3, -2, 3, 3]\n",
    "maior =  l[0]\n",
    "first = l[0]\n",
    "somaNegativo = 0\n",
    "countFirst = 0\n",
    "countVizinho = 0\n",
    "last =  l[0]+1\n",
    "total = 0\n",
    "for i in l:\n",
    "    total = total + i\n",
    "    if i > maior:\n",
    "        maior = i\n",
    "    if i == first:\n",
    "        countFirst += 1\n",
    "    if i<0:\n",
    "        somaNegativo += i\n",
    "    if i == last:\n",
    "        countVizinho += 1\n",
    "    last = i\n",
    "media = total/len(l)\n",
    "minDiff = maior\n",
    "nMinDiff = maior\n",
    "\n",
    "for i in l:\n",
    "    diff = abs(i-media)\n",
    "    if diff<minDiff:\n",
    "        minDiff = diff\n",
    "        nMinDiff = i\n",
    "\n",
    "\n",
    "\n",
    "print(\"Maior: %d\" %(maior))\n",
    "print(\"Soma: %d\" %(total))\n",
    "print(\"Ocorrencias do 1º: %d\" %(countFirst))\n",
    "print(\"Media: %f\"%( media))\n",
    "print(\"Valor mais proximo da media: %d\" %(nMinDiff))\n",
    "print(\"Soma dos negativos: %d\" %(somaNegativo))\n",
    "print(\"Vizinhos iguais (pares): %d\" %(countVizinho))\n",
    "    \n",
    "    \n",
    "    "
   ]
  },
  {
   "cell_type": "markdown",
   "metadata": {},
   "source": [
    "### 2 Faça um programa que receba duas listas e retorne True se são iguais ou False caso contrario.\n",
    "#### Duas listas são iguais se possuem os mesmos valores e na mesma ordem."
   ]
  },
  {
   "cell_type": "code",
   "execution_count": 21,
   "metadata": {},
   "outputs": [
    {
     "name": "stdout",
     "output_type": "stream",
     "text": [
      "São iguais\n"
     ]
    }
   ],
   "source": [
    "l1 = [1,2,3,4,5,6,7,8,9]\n",
    "l2 = [1,2,3,4,5,6,7,8,9]\n",
    "iguais = True\n",
    "for a, b in zip(l1, l2):\n",
    "    if a!=b:\n",
    "        iguais = False\n",
    "        break\n",
    "if iguais:\n",
    "    print(\"São iguais\")\n",
    "else:\n",
    "    print(\"Não são iguais\")"
   ]
  },
  {
   "cell_type": "markdown",
   "metadata": {},
   "source": [
    "### 3 Faça um programa que receba duas listas e retorne True se têm os mesmos elementos ou False caso contrário \n",
    "#### Duas listas possuem os mesmos elementos quando são compostas pelos mesmos valores, mas não obrigatoriamente na mesma ordem."
   ]
  },
  {
   "cell_type": "code",
   "execution_count": 26,
   "metadata": {},
   "outputs": [
    {
     "name": "stdout",
     "output_type": "stream",
     "text": [
      "São iguais\n"
     ]
    }
   ],
   "source": [
    "l1 = [1,2,3,4,5,6,7,8,9]\n",
    "l2 = [3,2,1,9,7,5,6,8,4]\n",
    "iguais = True\n",
    "l1 = sorted(l1)\n",
    "l2 = sorted(l2)\n",
    "for a, b in zip(l1, l2):\n",
    "    if a!=b:\n",
    "        iguais = False\n",
    "        break\n",
    "if iguais:\n",
    "    print(\"São iguais\")\n",
    "else:\n",
    "    print(\"Não são iguais\")"
   ]
  },
  {
   "cell_type": "markdown",
   "metadata": {},
   "source": [
    "### 4 Faça um programa que percorre uma lista com o seguinte formato: [['Brasil', 'Italia', [10, 9]], ['Brasil', 'Espanha', [5, 7]], ['Italia', 'Espanha', [7,8]]]. Essa lista indica o número de faltas que cada time fez em cada jogo. Na lista acima, no jogo entre Brasil e Itália, o Brasil fez 10 faltas e a Itália fez 9.\n",
    "\n",
    "#### O programa deve imprimir na tela:\n",
    "- o total de faltas do campeonato\n",
    "- o time que fez mais faltas\n",
    "- o time que fez menos faltas"
   ]
  },
  {
   "cell_type": "code",
   "execution_count": 32,
   "metadata": {},
   "outputs": [
    {
     "name": "stdout",
     "output_type": "stream",
     "text": [
      "Total de faltas: 46\n",
      "Faltas do Brasil: 15\n",
      "Faltas do Italia: 16\n",
      "Faltas do Espanha: 15\n"
     ]
    }
   ],
   "source": [
    "total = 0\n",
    "faltasBrasil = 0\n",
    "faltasItalia = 0\n",
    "faltasEspanha = 0\n",
    "l = [['Brasil', 'Italia', [10, 9]], ['Brasil', 'Espanha', [5, 7]], ['Italia', 'Espanha', [7,8]]]\n",
    "for x in l:\n",
    "    total += x[2][0] + x[2][1]\n",
    "    \n",
    "    if x[0] == 'Brasil':\n",
    "        faltasBrasil+=x[2][0]\n",
    "    elif x[0] == 'Italia':\n",
    "        faltasItalia+=x[2][0]\n",
    "    elif x[0] == 'Espanha':\n",
    "        faltasEspanha+=x[2][0]\n",
    "       \n",
    "    if x[1] == 'Brasil':\n",
    "        faltasBrasil+=x[2][1]\n",
    "    elif x[1] == 'Italia':\n",
    "        faltasItalia+=x[2][1]\n",
    "    elif x[1] == 'Espanha':\n",
    "        faltasEspanha+=x[2][1]\n",
    "        \n",
    "print(\"Total de faltas: %d\" %(total))\n",
    "print(\"Faltas do Brasil: %d\" %(faltasBrasil))\n",
    "print(\"Faltas do Italia: %d\" %(faltasItalia))\n",
    "print(\"Faltas do Espanha: %d\" %(faltasEspanha))\n"
   ]
  },
  {
   "cell_type": "markdown",
   "metadata": {},
   "source": [
    "### 5 Escreva um programa que conta a quantidade de vogais em uma string e armazena tal quantidade em um dicionário, onde a chave é a vogal considerada."
   ]
  },
  {
   "cell_type": "code",
   "execution_count": 38,
   "metadata": {},
   "outputs": [
    {
     "name": "stdout",
     "output_type": "stream",
     "text": [
      "Insira uma frase  Que frase interessante esta aqui, nao?\n",
      "Qtd de a = 5\n",
      "Qtd de e = 6\n",
      "Qtd de i = 2\n",
      "Qtd de o = 1\n",
      "Qtd de u = 2\n"
     ]
    }
   ],
   "source": [
    "v = {\"a\" : 0, \"e\" : 0, \"i\" : 0, \"o\" : 0, \"u\" : 0}\n",
    "\n",
    "s = list(input(\"Insira uma frase: \").lower())\n",
    "\n",
    "for s in s:\n",
    "    if s == \"a\":\n",
    "        v[\"a\"] += 1\n",
    "    elif s == \"e\":\n",
    "        v[\"e\"] += 1\n",
    "    elif s == \"i\":\n",
    "        v[\"i\"] += 1\n",
    "    elif s == \"o\":\n",
    "        v[\"o\"] += 1\n",
    "    elif s == \"u\":\n",
    "        v[\"u\"] += 1\n",
    "for key in v:\n",
    "    print(\"Qtd de %s = %d\" %(key, v[key]))"
   ]
  },
  {
   "cell_type": "markdown",
   "metadata": {},
   "source": [
    "### 6 Escreva um programa que lê̂ duas notas de vários alunos e armazena tais notas em um dicionário, onde a chave é o nome do aluno. A entrada de dados deve terminar quando for lida uma string vazia como nome. Escreva uma função que retorna a média do aluno, dado seu nome."
   ]
  },
  {
   "cell_type": "code",
   "execution_count": 9,
   "metadata": {},
   "outputs": [
    {
     "name": "stdout",
     "output_type": "stream",
     "text": [
      "Nome do Aluno (vazio para sair): pedro\n",
      "Insira a nota N1: 5\n",
      "Insira a nota N2: 7\n",
      "Nome do Aluno (vazio para sair): flacvio\n",
      "Insira a nota N1: 10\n",
      "Insira a nota N2: 9\n",
      "Nome do Aluno (vazio para sair): orlando\n",
      "Insira a nota N1: 1\n",
      "Insira a nota N2: 2\n",
      "Nome do Aluno (vazio para sair): \n",
      "Media de 'pedro': 6.0\n"
     ]
    }
   ],
   "source": [
    "sol = {}\n",
    "\n",
    "nome = input(\"Nome do Aluno (vazio para sair): \")\n",
    "while nome != \"\":\n",
    "    n1 = float(input(\"Insira a nota N1: \"))\n",
    "    n2 = float(input(\"Insira a nota N2: \"))\n",
    "    \n",
    "    sol[nome] = [n1, n2]\n",
    "    nome = input(\"Nome do Aluno (vazio para sair): \")\n",
    "\n",
    "def gerarMedia(nome):\n",
    "    a = sol[nome][0]\n",
    "    b = sol[nome][1]\n",
    "    media = (a+b)/2\n",
    "    print(\"Media de '%s': %3.1f\" %(nome, media))\n",
    "    \n",
    "gerarMedia(\"pedro\")\n",
    "    \n",
    "\n",
    "    "
   ]
  },
  {
   "cell_type": "markdown",
   "metadata": {},
   "source": [
    "### 7 Uma pista de Kart permite 10 voltas para cada um de 6 corredores. Escreva um programa que leia todos os tempos em segundos e os guarde em um dicionário, onde a chave é o nome do corredor. Ao final diga de quem foi a melhor volta da prova e em que volta; e ainda a classificação final em ordem (1 o o campeão). O campeão é o que tem a menor média de tempos."
   ]
  },
  {
   "cell_type": "code",
   "execution_count": 33,
   "metadata": {},
   "outputs": [
    {
     "name": "stdout",
     "output_type": "stream",
     "text": [
      " ---- Fim da Corida ---- \n",
      "Menor volta por corredor2 com o tempo de 4s na volta #10\n",
      "corredor2: 7.0s\n",
      "corredor5: 7.0s\n",
      "corredor4: 7.4s\n",
      "corredor3: 7.6s\n",
      "corredor1: 7.8s\n",
      "corredor6: 8.5s\n"
     ]
    }
   ],
   "source": [
    "import operator\n",
    "\n",
    "kart = {}\n",
    "kart[\"corredor1\"] = [9,6,5,9,8,7,7,6,8,13]\n",
    "kart[\"corredor2\"] = [6,7,5,6,8,7,11,6,10,4]\n",
    "kart[\"corredor3\"] = [7,8,5,7,8,12,7,6,9,7]\n",
    "kart[\"corredor4\"] = [8,10,5,8,8,7,7,6,6,9]\n",
    "kart[\"corredor5\"] = [6,7,5,5,9,7,10,6,7,8]\n",
    "kart[\"corredor6\"] = [9,15,5,9,8,7,5,6,10,11]\n",
    "\n",
    "menorNome = \"\"\n",
    "menorTempo = 999\n",
    "menorIndex = -1\n",
    "media = {}\n",
    "index = 1\n",
    "for c in kart:\n",
    "    total = 0\n",
    "    x=0\n",
    "    while x<10:\n",
    "        total += kart[c][x]\n",
    "        if kart[c][x]< menorTempo:\n",
    "            menorNome = c\n",
    "            menorTempo = kart[c][x]\n",
    "            menorIndex = x+1\n",
    "        \n",
    "       \n",
    "        x+=1\n",
    "    media[index] = c, total/10\n",
    "    index+=1\n",
    "print(\" ---- Fim da Corida ---- \")\n",
    "print(\"Menor volta por %s com o tempo de %ds na volta #%d\" %(menorNome, menorTempo, menorIndex))\n",
    "\n",
    "sort = sorted(media.items(), key=lambda x: x[1][1])\n",
    "for s in sort:\n",
    "    print(\"%s: %3.1fs\" %(s[1][0], s[1][1]))\n",
    "\n",
    "        \n",
    "        \n",
    "        "
   ]
  }
 ],
 "metadata": {
  "kernelspec": {
   "display_name": "Python 3",
   "language": "python",
   "name": "python3"
  },
  "language_info": {
   "codemirror_mode": {
    "name": "ipython",
    "version": 3
   },
   "file_extension": ".py",
   "mimetype": "text/x-python",
   "name": "python",
   "nbconvert_exporter": "python",
   "pygments_lexer": "ipython3",
   "version": "3.6.3"
  }
 },
 "nbformat": 4,
 "nbformat_minor": 2
}
