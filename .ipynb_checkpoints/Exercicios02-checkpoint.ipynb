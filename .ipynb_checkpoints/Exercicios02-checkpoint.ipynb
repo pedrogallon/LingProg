{
 "cells": [
  {
   "cell_type": "markdown",
   "metadata": {},
   "source": [
    "### 1 Crie um programa que recebe uma lista de números e\n",
    "- retorne o maior elemento\n",
    "- retorne a soma dos elementos\n",
    "- retorne o número de ocorrências do primeiro elemento da lista\n",
    "- retorne a média dos elementos\n",
    "- retorne o valor mais próximo da média dos elementos\n",
    "- retorne a soma dos elementos com valor negativo\n",
    "- retorne a quantidade de vizinhos iguais"
   ]
  },
  {
   "cell_type": "code",
   "execution_count": 7,
   "metadata": {},
   "outputs": [
    {
     "name": "stdout",
     "output_type": "stream",
     "text": [
      "Maior: 8\n",
      "Soma: 47\n",
      "Ocorrencias do 1º: 3\n",
      "Media: 47.000000\n",
      "Soma dos negativos: -10\n",
      "Vizinhos iguais: 6\n"
     ]
    }
   ],
   "source": [
    "l = [ 6, 2 ,2 ,4 , 6, 6, 5, 1, -2 , 3, 2, 3, -6, 8, 3, -2, 3, 3 ]\n",
    "maior =  l[0]\n",
    "first = l[0]\n",
    "somaNegativo = 0\n",
    "countFirst = 0\n",
    "countVizinho = 0\n",
    "last =  l[0]+1\n",
    "total = 0\n",
    "for i in l:\n",
    "    total = total + i\n",
    "    if i > maior:\n",
    "        maior = i\n",
    "    if i == first:\n",
    "        countFirst += 1\n",
    "    if i<0:\n",
    "        somaNegativo += i\n",
    "    if i == last:\n",
    "        countVizinho += 1\n",
    "    last = i\n",
    "media = total/len(l)\n",
    "\n",
    "print(\"Maior: %d\" %(maior))\n",
    "print(\"Soma: %d\" %(total))\n",
    "print(\"Ocorrencias do 1º: %d\" %(countFirst))\n",
    "print(\"Media: %f\"%(total))\n",
    "print(\"Soma dos negativos: %d\" %(somaNegativo))\n",
    "print(\"Vizinhos iguais (pares): %d\" %(countVizinho))\n",
    "    \n",
    "    \n",
    "    "
   ]
  },
  {
   "cell_type": "code",
   "execution_count": null,
   "metadata": {},
   "outputs": [],
   "source": []
  }
 ],
 "metadata": {
  "kernelspec": {
   "display_name": "Python 3",
   "language": "python",
   "name": "python3"
  },
  "language_info": {
   "codemirror_mode": {
    "name": "ipython",
    "version": 3
   },
   "file_extension": ".py",
   "mimetype": "text/x-python",
   "name": "python",
   "nbconvert_exporter": "python",
   "pygments_lexer": "ipython3",
   "version": "3.6.4"
  }
 },
 "nbformat": 4,
 "nbformat_minor": 2
}
