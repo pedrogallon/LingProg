{
 "cells": [
  {
   "cell_type": "markdown",
   "metadata": {},
   "source": [
    "### 1 Faça um Programa que peça o raio de um círculo, calcule e mostre sua área."
   ]
  },
  {
   "cell_type": "code",
   "execution_count": 9,
   "metadata": {},
   "outputs": [
    {
     "name": "stdout",
     "output_type": "stream",
     "text": [
      "Insira o raio do círculo: 2\n",
      "A área do circulo com raio 2 é: 12.560000\n"
     ]
    }
   ],
   "source": [
    "r = float(input(\"Insira o raio do círculo: \"))\n",
    "print(\"A área do circulo com raio %d é: %f\" %(r, 3.14*r*r))"
   ]
  },
  {
   "cell_type": "markdown",
   "metadata": {},
   "source": [
    "### 2 Faça um Programa que calcule a área de um quadrado, em seguida mostre o dobro desta área para o usuário."
   ]
  },
  {
   "cell_type": "code",
   "execution_count": 12,
   "metadata": {},
   "outputs": [
    {
     "name": "stdout",
     "output_type": "stream",
     "text": [
      "Insira o lado do quadrado: 2\n",
      "Área: 4\n",
      "Dobro da Área: 8\n"
     ]
    }
   ],
   "source": [
    "l= int(input(\"Insira o lado do quadrado: \"))\n",
    "print(\"Área: %d\" %(l*l))\n",
    "print(\"Dobro da Área: %d\" %(l*l*2))\n"
   ]
  },
  {
   "cell_type": "markdown",
   "metadata": {},
   "source": [
    "### 3 Faça um Programa que pergunte quanto você ganha por hora e o número de horas trabalhadas no mês. Calcule e mostre o total do seu salário no referido mês."
   ]
  },
  {
   "cell_type": "code",
   "execution_count": null,
   "metadata": {},
   "outputs": [],
   "source": []
  },
  {
   "cell_type": "code",
   "execution_count": 11,
   "metadata": {},
   "outputs": [
    {
     "name": "stdout",
     "output_type": "stream",
     "text": [
      "Insira o quanto ganha por hora trabalhada: 20\n",
      "Insira quantas horas trabalhou esse mês: 5\n",
      "Você receberá R$100.00 este mês\n"
     ]
    }
   ],
   "source": [
    "d = float(input(\"Insira o quanto ganha por hora trabalhada: \"))\n",
    "h = float(input(\"Insira quantas horas trabalhou esse mês: \"))\n",
    "print(\"Você receberá R$%6.2f este mês\" %(d*h))"
   ]
  },
  {
   "cell_type": "markdown",
   "metadata": {},
   "source": [
    "### 4 Faça um Programa que peça a temperatura em graus Farenheit, transforme e mostre a temperatura em graus Celsius. C = (5 * (F-32) / 9)."
   ]
  },
  {
   "cell_type": "code",
   "execution_count": 18,
   "metadata": {},
   "outputs": [
    {
     "name": "stdout",
     "output_type": "stream",
     "text": [
      "Insira uma temperatura em ºFarenheit: 89\n",
      "Temperatura em celcius: 31.67\n"
     ]
    }
   ],
   "source": [
    "f= float(input(\"Insira uma temperatura em ºFarenheit: \"))\n",
    "print(\"Temperatura em celcius: %3.2f\" %(5*(f-32)/9))"
   ]
  },
  {
   "cell_type": "markdown",
   "metadata": {},
   "source": [
    "### 5 Faça um Programa que peça a temperatura em graus Celsius, transforme e mostre em graus Farenheit."
   ]
  },
  {
   "cell_type": "code",
   "execution_count": 19,
   "metadata": {},
   "outputs": [
    {
     "name": "stdout",
     "output_type": "stream",
     "text": [
      "Insira uma temperatura em º Celcius: 32\n",
      "Temperatura em Farenheit: 89.60\n"
     ]
    }
   ],
   "source": [
    "c= float(input(\"Insira uma temperatura em º Celcius: \"))\n",
    "print(\"Temperatura em Farenheit: %3.2f\" %((9*c/5)+32))"
   ]
  },
  {
   "cell_type": "markdown",
   "metadata": {},
   "source": [
    "### 6 Faça um Programa que peça 2 números inteiros e um número real. Calcule e mostre:\n",
    "- o produto do dobro do primeiro com metade do segundo .\n",
    "- a soma do triplo do primeiro com o terceiro.\n",
    "- o terceiro elevado ao cubo."
   ]
  },
  {
   "cell_type": "code",
   "execution_count": 20,
   "metadata": {},
   "outputs": [
    {
     "name": "stdout",
     "output_type": "stream",
     "text": [
      "Insira um número inteiro: 2\n",
      "Insira outro número inteiro: 4\n",
      "Insira um número real: 6\n",
      "O produto do dobro do primeiro com metade do segundo é   8.00\n",
      "A soma do triplo do primeiro com o terceiro é  12.00\n",
      "O terceiro elevado ao cubo é: 216.00\n"
     ]
    }
   ],
   "source": [
    "a = int(input(\"Insira um número inteiro: \"))\n",
    "b = int(input(\"Insira outro número inteiro: \"))\n",
    "c = int(input(\"Insira um número real: \"))\n",
    "print(\"O produto do dobro do primeiro com metade do segundo é %6.2f\" %((2*a)*(b/2)))\n",
    "print(\"A soma do triplo do primeiro com o terceiro é %6.2f\" %(3*a + c))\n",
    "print(\"O terceiro elevado ao cubo é: %6.2f\" %(c**3))"
   ]
  },
  {
   "cell_type": "markdown",
   "metadata": {},
   "source": [
    "### 7 João Papo-de-Pescador, homem de bem, comprou um microcomputador para controlar o rendimento diário de seu trabalho. Toda vez que ele traz um peso de peixes maior que o estabelecido pelo regulamento de pesca do estado de São Paulo (50 quilos) deve pagar uma multa de RS 4,00 por quilo excedente. João precisa que você faça um programa que leia a variável peso (peso de peixes) e verifique se há excesso. Se houver, gravar na variável excesso e na variável multa o valor da multa que João deverá pagar. Caso contrário mostrar tais variáveis com o conteúdo ZERO."
   ]
  },
  {
   "cell_type": "code",
   "execution_count": 28,
   "metadata": {},
   "outputs": [
    {
     "name": "stdout",
     "output_type": "stream",
     "text": [
      "Insira a quantidade de peixe em KG: 55\n",
      "Excesso (em KG): 5\n",
      "Multa: R$20,00\n"
     ]
    }
   ],
   "source": [
    "p = int(input(\"Insira a quantidade de peixe em KG: \"))\n",
    "\n",
    "if p>50:    \n",
    "    excesso = p-50\n",
    "else:\n",
    "    excesso = 0\n",
    "    \n",
    "multa = 4*excesso\n",
    "\n",
    "print(\"Excesso (em KG): %d\" %(excesso))\n",
    "print(\"Multa: R$%d,00\" %(multa))"
   ]
  },
  {
   "cell_type": "markdown",
   "metadata": {},
   "source": [
    "#### 8 Faça um Programa que pergunte quanto você ganha por hora e o número de horas trabalhadas no mês. Calcule e mostre o total do seu salário no referido mês, sabendo-se que são descontados 11% para o Imposto de Renda, 8% para o INSS e 5% para o sindicato, faça um programa que nos dê:\n",
    "- salário bruto.\n",
    "- quanto pagou ao INSS.\n",
    "- quanto pagou ao sindicato.\n",
    "- o salário líquido.\n",
    "- calcule os descontos e o salário líquido, conforme a tabela abaixo:\n",
    "+ Salário Bruto : RS\n",
    "- IR (11%) : RS\n",
    "- INSS (8%) : RS\n",
    "- Sindicato ( 5%) : RS\n",
    "= Salário Liquido : RS\n",
    "Obs.: Salário Bruto - Descontos = Salário Líquido."
   ]
  },
  {
   "cell_type": "code",
   "execution_count": 5,
   "metadata": {},
   "outputs": [
    {
     "name": "stdout",
     "output_type": "stream",
     "text": [
      "Insira o quanto ganha por hora trabalhada: 20\n",
      "Insira quantas horas trabalhou esse mês: 250\n",
      "+ Salário bruto: R$ 5000.00\n",
      "- IR (11%): R$  550.00\n",
      "- INSS (8%): R$  400.00\n",
      "- Sindicato (5%): R$  250.00\n",
      "= Salário Liquido: R$ 3800.00\n"
     ]
    }
   ],
   "source": [
    "d = float(input(\"Insira o quanto ganha por hora trabalhada: \"))\n",
    "h = float(input(\"Insira quantas horas trabalhou esse mês: \"))\n",
    "bruto = d*h\n",
    "ir = bruto*0.11\n",
    "inss = bruto*0.08\n",
    "sind = bruto*0.05\n",
    "liq = bruto - ir - inss - sind\n",
    "\n",
    "print(\"+ Salário bruto: R$%8.2f\" %(bruto))\n",
    "print(\"- IR (11%%): R$%8.2f\" %(ir))\n",
    "print(\"- INSS (8%%): R$%8.2f\" %(inss))\n",
    "print(\"- Sindicato (5%%): R$%8.2f\" %(sind))\n",
    "print(\"= Salário Liquido: R$%8.2f\" %(liq))"
   ]
  },
  {
   "cell_type": "markdown",
   "metadata": {},
   "source": [
    "### 9 Faça um programa que leia 2 strings e informe o conteúdo delas seguido do seu comprimento. Informe também se as duas strings possuem o mesmo comprimento e são iguais ou diferentes no conteúdo."
   ]
  },
  {
   "cell_type": "code",
   "execution_count": 11,
   "metadata": {},
   "outputs": [
    {
     "name": "stdout",
     "output_type": "stream",
     "text": [
      "Insira a primeira frase: 1234\n",
      "Insira a segunda frase: 4231\n",
      "Tamanho de '1234' é 4\n",
      "Tamanho de '4231' é 4\n",
      "Seus tamanhos são iguais\n",
      "Seus conteúdos são diferentes\n"
     ]
    }
   ],
   "source": [
    "a = input(\"Insira a primeira frase: \")\n",
    "b = input(\"Insira a segunda frase: \")\n",
    "print(\"Tamanho de '%s' é %d\" %(a, len(a)))\n",
    "print(\"Tamanho de '%s' é %d\" %(b, len(b)))\n",
    "\n",
    "if len(a)!=len(b):\n",
    "    print(\"Seus tamanhos são diferentes\")\n",
    "    print(\"Seus conteúdos são diferentes\")\n",
    "else:\n",
    "    print(\"Seus tamanhos são iguais\")\n",
    "    if a != b:\n",
    "        print(\"Seus conteúdos são diferentes\")\n",
    "    else:\n",
    "        print(\"Seus conteúdos são iguais\")\n",
    "    "
   ]
  },
  {
   "cell_type": "markdown",
   "metadata": {},
   "source": [
    "### 10 Faça um programa que permita ao usuário digitar o seu nome e em seguida mostre o nome do usuário de trás para frente utilizando somente letras maiúsculas. Dica: lembre−se que ao informar o nome o usuário pode digitar letras maiúsculas ou minúsculas. Observação: não use loops."
   ]
  },
  {
   "cell_type": "code",
   "execution_count": 13,
   "metadata": {},
   "outputs": [
    {
     "name": "stdout",
     "output_type": "stream",
     "text": [
      "Insira seu nomePedro Gallon\n",
      "NOLLAG ORDEP\n"
     ]
    }
   ],
   "source": [
    "n = input(\"Insira seu nome\")\n",
    "print(n[::-1].upper())"
   ]
  },
  {
   "cell_type": "markdown",
   "metadata": {},
   "source": [
    "### 11 Faça um programa que solicite a data de nascimento (dd/mm/aaaa) do usuário e imprima a data com o nome do mês por extenso.\n",
    "### Data de Nascimento: 29/10/1973\n",
    "### Você nasceu em 29 de Outubro de 1973.\n",
    "#### Obs.: Não use desvio condicional nem loops."
   ]
  },
  {
   "cell_type": "code",
   "execution_count": 16,
   "metadata": {
    "scrolled": true
   },
   "outputs": [
    {
     "name": "stdout",
     "output_type": "stream",
     "text": [
      "Insira sua data de nascimento (dd/mm/aaaa)29/03/1997\n",
      "Você nasceu em 29 de Março de 1997\n"
     ]
    }
   ],
   "source": [
    "meses = {\"01\": \"Janeiro\", \"02\": \"Fevereiro\", \"03\" : \"Março\", \"04\" : \"Abril\", \"05\" : \"Maio\", \"06\" : \"Junho\", \"07\": \"Julho\", \"08\": \"Agosto\", \"09\" : \"Setembro\", \"10\" : \"Outubro\", \"11\" : \"Novembro\", \"12\" : \"Dezembro\"}\n",
    "x = input(\"Insira sua data de nascimento (dd/mm/aaaa)\")\n",
    "if len(x) != 10:\n",
    "    print(\"Data insirida incorretamente!\")\n",
    "else:\n",
    "    v = x.split(\"/\")\n",
    "    d = v[0]\n",
    "    m = meses[v[1]]\n",
    "    a = v[2]\n",
    "    print(\"Você nasceu em %s de %s de %s\" %(d, m, a))\n",
    "    \n",
    "\n",
    "    "
   ]
  },
  {
   "cell_type": "markdown",
   "metadata": {},
   "source": [
    "### 12 Leet é uma forma de se escrever o alfabeto latino usando outros símbolos em lugar das letras, como números por exemplo. A própria palavra leet admite muitas variações, como l33t ou 1337. O uso do leet reflete uma subcultura relacionada ao mundo dos jogos de computador e internet, sendo muito usada para confundir os iniciantes e afirmar-se como parte de um grupo. Pesquise sobre as principais formas de traduzir as letras. Depois, faça um programa que peça uma texto e transforme-o para a grafia leet speak. \n",
    "### Desafio: não use loops nem desvios condicionais."
   ]
  },
  {
   "cell_type": "code",
   "execution_count": 22,
   "metadata": {},
   "outputs": [
    {
     "name": "stdout",
     "output_type": "stream",
     "text": [
      "Insira um texto a ser convertido para leet speechNossa que texto legal de ser lido assim, da ate vontade de me matar\n",
      "N0554 QU3 T3XT0 L3G4L D3 53R L1D0 4551M, D4 4T3 V0NT4D3 D3 M3 M4T4R\n"
     ]
    }
   ],
   "source": [
    "s = (input(\"Insira um texto a ser convertido para leet speech\")).upper()\n",
    "s = s.replace(\"A\", \"4\")\n",
    "s = s.replace(\"E\", \"3\")\n",
    "s = s.replace(\"S\", \"5\")\n",
    "s = s.replace(\"O\", \"0\")\n",
    "s = s.replace(\"I\", \"1\")\n",
    "\n",
    "print(s)\n"
   ]
  },
  {
   "cell_type": "code",
   "execution_count": null,
   "metadata": {},
   "outputs": [],
   "source": []
  }
 ],
 "metadata": {
  "kernelspec": {
   "display_name": "Python 3",
   "language": "python",
   "name": "python3"
  },
  "language_info": {
   "codemirror_mode": {
    "name": "ipython",
    "version": 3
   },
   "file_extension": ".py",
   "mimetype": "text/x-python",
   "name": "python",
   "nbconvert_exporter": "python",
   "pygments_lexer": "ipython3",
   "version": "3.6.4"
  }
 },
 "nbformat": 4,
 "nbformat_minor": 2
}
