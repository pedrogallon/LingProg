{
 "cells": [
  {
   "cell_type": "markdown",
   "metadata": {},
   "source": [
    "### 1 Crie um programa que recebe uma lista de números e\n",
    "- retorne o maior elemento\n",
    "- retorne a soma dos elementos\n",
    "- retorne o número de ocorrências do primeiro elemento da lista\n",
    "- retorne a média dos elementos\n",
    "- retorne o valor mais próximo da média dos elementos\n",
    "- retorne a soma dos elementos com valor negativo\n",
    "- retorne a quantidade de vizinhos iguais"
   ]
  },
  {
   "cell_type": "code",
   "execution_count": 13,
   "metadata": {},
   "outputs": [
    {
     "name": "stdout",
     "output_type": "stream",
     "text": [
      "Maior: 8\n",
      "Soma: 47\n",
      "Ocorrencias do 1º: 3\n",
      "Media: 2.611111\n",
      "Valor mais proximo da media: 3\n",
      "Soma dos negativos: -10\n",
      "Vizinhos iguais (pares): 3\n"
     ]
    }
   ],
   "source": [
    "l = [ 6, 2 ,2 ,4 , 6, 6, 5, 1, -2 , 3, 2, 3, -6, 8, 3, -2, 3, 3]\n",
    "maior =  l[0]\n",
    "first = l[0]\n",
    "somaNegativo = 0\n",
    "countFirst = 0\n",
    "countVizinho = 0\n",
    "last =  l[0]+1\n",
    "total = 0\n",
    "for i in l:\n",
    "    total = total + i\n",
    "    if i > maior:\n",
    "        maior = i\n",
    "    if i == first:\n",
    "        countFirst += 1\n",
    "    if i<0:\n",
    "        somaNegativo += i\n",
    "    if i == last:\n",
    "        countVizinho += 1\n",
    "    last = i\n",
    "media = total/len(l)\n",
    "minDiff = maior\n",
    "nMinDiff = maior\n",
    "\n",
    "for i in l:\n",
    "    diff = abs(i-media)\n",
    "    if diff<minDiff:\n",
    "        minDiff = diff\n",
    "        nMinDiff = i\n",
    "\n",
    "\n",
    "\n",
    "print(\"Maior: %d\" %(maior))\n",
    "print(\"Soma: %d\" %(total))\n",
    "print(\"Ocorrencias do 1º: %d\" %(countFirst))\n",
    "print(\"Media: %f\"%( media))\n",
    "print(\"Valor mais proximo da media: %d\" %(nMinDiff))\n",
    "print(\"Soma dos negativos: %d\" %(somaNegativo))\n",
    "print(\"Vizinhos iguais (pares): %d\" %(countVizinho))\n",
    "    \n",
    "    \n",
    "    "
   ]
  },
  {
   "cell_type": "markdown",
   "metadata": {},
   "source": [
    "### 2 Faça um programa que receba duas listas e retorne True se são iguais ou False caso contrario.\n",
    "#### Duas listas são iguais se possuem os mesmos valores e na mesma ordem."
   ]
  },
  {
   "cell_type": "code",
   "execution_count": 21,
   "metadata": {},
   "outputs": [
    {
     "name": "stdout",
     "output_type": "stream",
     "text": [
      "São iguais\n"
     ]
    }
   ],
   "source": [
    "l1 = [1,2,3,4,5,6,7,8,9]\n",
    "l2 = [1,2,3,4,5,6,7,8,9]\n",
    "iguais = True\n",
    "for a, b in zip(l1, l2):\n",
    "    if a!=b:\n",
    "        iguais = False\n",
    "        break\n",
    "if iguais:\n",
    "    print(\"São iguais\")\n",
    "else:\n",
    "    print(\"Não são iguais\")"
   ]
  },
  {
   "cell_type": "markdown",
   "metadata": {},
   "source": [
    "### 3 Faça um programa que receba duas listas e retorne True se têm os mesmos elementos ou False caso contrário \n",
    "#### Duas listas possuem os mesmos elementos quando são compostas pelos mesmos valores, mas não obrigatoriamente na mesma ordem."
   ]
  },
  {
   "cell_type": "code",
   "execution_count": 26,
   "metadata": {},
   "outputs": [
    {
     "name": "stdout",
     "output_type": "stream",
     "text": [
      "São iguais\n"
     ]
    }
   ],
   "source": [
    "l1 = [1,2,3,4,5,6,7,8,9]\n",
    "l2 = [3,2,1,9,7,5,6,8,4]\n",
    "iguais = True\n",
    "l1 = sorted(l1)\n",
    "l2 = sorted(l2)\n",
    "for a, b in zip(l1, l2):\n",
    "    if a!=b:\n",
    "        iguais = False\n",
    "        break\n",
    "if iguais:\n",
    "    print(\"São iguais\")\n",
    "else:\n",
    "    print(\"Não são iguais\")"
   ]
  },
  {
   "cell_type": "markdown",
   "metadata": {},
   "source": [
    "### 4 Faça um programa que percorre uma lista com o seguinte formato: [['Brasil', 'Italia', [10, 9]], ['Brasil', 'Espanha', [5, 7]], ['Italia', 'Espanha', [7,8]]]. Essa lista indica o número de faltas que cada time fez em cada jogo. Na lista acima, no jogo entre Brasil e Itália, o Brasil fez 10 faltas e a Itália fez 9.\n",
    "\n",
    "#### O programa deve imprimir na tela:\n",
    "- o total de faltas do campeonato\n",
    "- o time que fez mais faltas\n",
    "- o time que fez menos faltas"
   ]
  },
  {
   "cell_type": "code",
   "execution_count": 32,
   "metadata": {},
   "outputs": [
    {
     "name": "stdout",
     "output_type": "stream",
     "text": [
      "Total de faltas: 46\n",
      "Faltas do Brasil: 15\n",
      "Faltas do Italia: 16\n",
      "Faltas do Espanha: 15\n"
     ]
    }
   ],
   "source": [
    "total = 0\n",
    "faltasBrasil = 0\n",
    "faltasItalia = 0\n",
    "faltasEspanha = 0\n",
    "l = [['Brasil', 'Italia', [10, 9]], ['Brasil', 'Espanha', [5, 7]], ['Italia', 'Espanha', [7,8]]]\n",
    "for x in l:\n",
    "    total += x[2][0] + x[2][1]\n",
    "    \n",
    "    if x[0] == 'Brasil':\n",
    "        faltasBrasil+=x[2][0]\n",
    "    elif x[0] == 'Italia':\n",
    "        faltasItalia+=x[2][0]\n",
    "    elif x[0] == 'Espanha':\n",
    "        faltasEspanha+=x[2][0]\n",
    "       \n",
    "    if x[1] == 'Brasil':\n",
    "        faltasBrasil+=x[2][1]\n",
    "    elif x[1] == 'Italia':\n",
    "        faltasItalia+=x[2][1]\n",
    "    elif x[1] == 'Espanha':\n",
    "        faltasEspanha+=x[2][1]\n",
    "        \n",
    "print(\"Total de faltas: %d\" %(total))\n",
    "print(\"Faltas do Brasil: %d\" %(faltasBrasil))\n",
    "print(\"Faltas do Italia: %d\" %(faltasItalia))\n",
    "print(\"Faltas do Espanha: %d\" %(faltasEspanha))\n"
   ]
  },
  {
   "cell_type": "markdown",
   "metadata": {},
   "source": [
    "### 5 Escreva um programa que conta a quantidade de vogais em uma string e armazena tal quantidade em um dicionário, onde a chave é a vogal considerada."
   ]
  },
  {
   "cell_type": "code",
   "execution_count": 38,
   "metadata": {},
   "outputs": [
    {
     "name": "stdout",
     "output_type": "stream",
     "text": [
      "Insira uma frase  Que frase interessante esta aqui, nao?\n",
      "Qtd de a = 5\n",
      "Qtd de e = 6\n",
      "Qtd de i = 2\n",
      "Qtd de o = 1\n",
      "Qtd de u = 2\n"
     ]
    }
   ],
   "source": [
    "v = {\"a\" : 0, \"e\" : 0, \"i\" : 0, \"o\" : 0, \"u\" : 0}\n",
    "\n",
    "s = list(input(\"Insira uma frase  \").lower())\n",
    "\n",
    "for s in s:\n",
    "    if s == \"a\":\n",
    "        v[\"a\"] += 1\n",
    "    elif s == \"e\":\n",
    "        v[\"e\"] += 1\n",
    "    elif s == \"i\":\n",
    "        v[\"i\"] += 1\n",
    "    elif s == \"o\":\n",
    "        v[\"o\"] += 1\n",
    "    elif s == \"u\":\n",
    "        v[\"u\"] += 1\n",
    "for key in v:\n",
    "    print(\"Qtd de %s = %d\" %(key, v[key]))"
   ]
  },
  {
   "cell_type": "code",
   "execution_count": null,
   "metadata": {},
   "outputs": [],
   "source": []
  }
 ],
 "metadata": {
  "kernelspec": {
   "display_name": "Python 3",
   "language": "python",
   "name": "python3"
  },
  "language_info": {
   "codemirror_mode": {
    "name": "ipython",
    "version": 3
   },
   "file_extension": ".py",
   "mimetype": "text/x-python",
   "name": "python",
   "nbconvert_exporter": "python",
   "pygments_lexer": "ipython3",
   "version": "3.6.4"
  }
 },
 "nbformat": 4,
 "nbformat_minor": 2
}
