{
 "cells": [
  {
   "cell_type": "markdown",
   "metadata": {},
   "source": [
    "1.Faça um Programa que peça dois números e imprima o maior deles."
   ]
  },
  {
   "cell_type": "code",
   "execution_count": 29,
   "metadata": {},
   "outputs": [
    {
     "name": "stdout",
     "output_type": "stream",
     "text": [
      "Digite um número: 1\n",
      "Digite outro número: 2\n",
      "O maior é:  2\n"
     ]
    }
   ],
   "source": [
    "a = input(\"Digite um número: \")\n",
    "b = input(\"Digite outro número: \")\n",
    "if (a>b):\n",
    "    print(\"O maior é: \", a)\n",
    "else:\n",
    "    print(\"O maior é: \", b)"
   ]
  },
  {
   "cell_type": "markdown",
   "metadata": {},
   "source": [
    "2.Faça um Programa que verifique se uma letra digitada é vogal ou consoante."
   ]
  },
  {
   "cell_type": "code",
   "execution_count": null,
   "metadata": {},
   "outputs": [],
   "source": [
    "s = input(\"Digite uma letra: \")\n",
    "listaVogal = [\"a\",\"e\",\"i\",\"o\",\"u\",\"y\",\"w\"]\n",
    "listaConsoante = [\"b\",\"c\",\"d\",\"f\",\"g\",\"h\",\"j\",\"k\",\"l\",\"m\",\"n\",\"p\",\"q\",\"r\",\"s\",\"t\",\"v\",\"x\",\"z\"]\n",
    "if (s in listaVogal):\n",
    "    print(s,\"é uma Vogal\")\n",
    "elif (s in listaConsoante):\n",
    "    print(s,\"é uma Consoante\")\n",
    "else:\n",
    "    print(s,\"não é uma letra\")"
   ]
  },
  {
   "cell_type": "markdown",
   "metadata": {},
   "source": [
    "3.Faça um programa para a leitura de duas notas parciais de um aluno. O programa\n",
    "deve calcular a média alcançada por aluno e apresentar:\n",
    "- A mensagem \"Aprovado\", se a média alcançada for maior ou igual a sete;\n",
    "- A mensagem \"Reprovado\", se a média for menor do que sete;\n",
    "- A mensagem \"Aprovado com Distinção\", se a média for igual a dez.\n"
   ]
  },
  {
   "cell_type": "code",
   "execution_count": 36,
   "metadata": {},
   "outputs": [
    {
     "name": "stdout",
     "output_type": "stream",
     "text": [
      "Digite a primeira nota: 1.2\n",
      "Digite a segunda nota: 3.5\n",
      "--------------\n",
      "Reprovado\n",
      "Media:  2.35\n"
     ]
    }
   ],
   "source": [
    "a = float(input(\"Digite a primeira nota: \"))\n",
    "while (a<0 or a>10):\n",
    "    a = float(input(\"Digite a primeira nota: \"))\n",
    "b = float(input(\"Digite a segunda nota: \"))\n",
    "while (b<0 or b>10):\n",
    "    b = float(input(\"Digite a segunda nota: \"))\n",
    "media = (a+b)/2\n",
    "print(\"--------------\")\n",
    "if media>=7:\n",
    "    if media==10:\n",
    "        print(\"Aprovado com Distinção\")\n",
    "    else:\n",
    "        print(\"Aprovado\")\n",
    "else:\n",
    "    print(\"Reprovado\")\n",
    "print(\"Media: \",media)"
   ]
  },
  {
   "cell_type": "markdown",
   "metadata": {},
   "source": [
    "4.Faça um Programa que leia três números e mostre-os em ordem decrescente."
   ]
  },
  {
   "cell_type": "code",
   "execution_count": 42,
   "metadata": {},
   "outputs": [
    {
     "name": "stdout",
     "output_type": "stream",
     "text": [
      "Insira um numero: 1\n",
      "Insira um numero: 2\n",
      "Insira um numero: 3\n",
      "[3, 2, 1]\n"
     ]
    }
   ],
   "source": [
    "v = []\n",
    "x=0\n",
    "while (x<3):\n",
    "    v.append(int(input(\"Insira um numero: \")))\n",
    "    x+=1\n",
    "v.sort(reverse=True)\n",
    "print(v)"
   ]
  },
  {
   "cell_type": "markdown",
   "metadata": {},
   "source": [
    "5.As Organizações Tabajara resolveram dar um aumento de salário aos seus\n",
    "colaboradores e lhe contrataram para desenvolver o programa que calculará os\n",
    "reajustes.\n",
    "Faça um programa que recebe o salário de um colaborador e o reajuste segundo o\n",
    "seguinte critério, baseado no salário atual:\n",
    "- salários até R$ 280,00 (incluindo) : aumento de 20%\n",
    "- salários entre R$ 280,00 e R$ 700,00 : aumento de 15%\n",
    "- salários entre R$ 700,00 e R$ 1500,00 : aumento de 10%\n",
    "- salários de R$ 1500,00 em diante : aumento de 5% Após o aumento ser realizado,\n",
    "informe na tela:\n",
    "- o salário antes do reajuste;\n",
    "- o percentual de aumento aplicado;\n",
    "- o valor do aumento;\n",
    "- o novo salário, após o aumento.\n"
   ]
  },
  {
   "cell_type": "code",
   "execution_count": 40,
   "metadata": {},
   "outputs": [
    {
     "name": "stdout",
     "output_type": "stream",
     "text": [
      "Digite o salário: 1501\n",
      "Salário anterior:  1501\n",
      "Percentual do aumento:  5%\n",
      "Valor do aumento:  75.05\n",
      "Salário novo:  1576.05\n"
     ]
    }
   ],
   "source": [
    "s = int(input(\"Digite o salário: \"))\n",
    "if s<=280:\n",
    "    salarioNovo = s + s*0.2\n",
    "    reajuste = \"20%\"\n",
    "    aumento = s*0.2\n",
    "if s>280 and s<=700:\n",
    "    salarioNovo = s + s*0.15\n",
    "    reajuste = \"15%\"\n",
    "    aumento = s*0.15\n",
    "if s>700 and s<=1500:\n",
    "    salarioNovo = s + s*0.10\n",
    "    reajuste = \"10%\"\n",
    "    aumento = s*0.10\n",
    "if s>1500:\n",
    "    salarioNovo = s + s*0.05\n",
    "    reajuste = \"5%\"\n",
    "    aumento = s*0.05\n",
    "print(\"Salário anterior: \",s)\n",
    "print(\"Percentual do aumento: \",reajuste)\n",
    "print(\"Valor do aumento: \",aumento)\n",
    "print(\"Salário novo: \",salarioNovo)\n",
    "    "
   ]
  },
  {
   "cell_type": "markdown",
   "metadata": {},
   "source": [
    "6.Faça um Programa que leia um número e exiba o dia correspondente da semana.\n",
    "(1-Domingo, 2- Segunda, etc.), se digitar outro valor deve aparecer valor inválido."
   ]
  },
  {
   "cell_type": "code",
   "execution_count": 5,
   "metadata": {},
   "outputs": [
    {
     "name": "stdout",
     "output_type": "stream",
     "text": [
      "Insira um número de 1 a 7: 3\n",
      "Terça\n"
     ]
    }
   ],
   "source": [
    "semana = [\"Domingo\", \"Segunda\", \"Terça\", \"Quarta\", \"Quinta\", \"Sexta\", \"Sábado\"]\n",
    "d = int(input(\"Insira um número de 1 a 7: \"))\n",
    "if d>0 and d<8:\n",
    "    print(semana[d-1])\n",
    "else:\n",
    "    print(\"O número não está entre 1 e 7\")"
   ]
  },
  {
   "cell_type": "markdown",
   "metadata": {},
   "source": [
    "7.Faça um programa que lê as duas notas parciais obtidas por um aluno numa\n",
    "disciplina ao longo de um semestre, e calcule a sua média. A atribuição de conceitos\n",
    "obedece à tabela abaixo:\n",
    "Média de Aproveitamento Conceito\n",
    "- Entre 9.0 e 10.0 A\n",
    "- Entre 7.5 e 9.0 B\n",
    "- Entre 6.0 e 7.5 C\n",
    "- Entre 4.0 e 6.0 D\n",
    "- Entre 4.0 e zero E\n",
    "O algoritmo deve mostrar na tela as notas, a média, o conceito correspondente e a\n",
    "mensagem “APROVADO” se o conceito for A, B ou C ou “REPROVADO” se o conceito\n",
    "for D ou E."
   ]
  },
  {
   "cell_type": "code",
   "execution_count": 37,
   "metadata": {},
   "outputs": [
    {
     "name": "stdout",
     "output_type": "stream",
     "text": [
      "Digite a primeira nota: 6\n",
      "Digite a segunda nota: 7\n",
      "--------------\n",
      "Nota 1:  6.0\n",
      "Nota 2:  7.0\n",
      "Média:  6.5\n",
      "Conceito:  C\n",
      "APROVADO\n"
     ]
    }
   ],
   "source": [
    "aprovado = [\"A\",\"B\",\"C\"]\n",
    "a = float(input(\"Digite a primeira nota: \"))\n",
    "while (a<0 or a>10):\n",
    "    a = float(input(\"Digite a primeira nota: \"))\n",
    "b = float(input(\"Digite a segunda nota: \"))\n",
    "while (b<0 or b>10):\n",
    "    b = float(input(\"Digite a segunda nota: \"))\n",
    "media = (a+b)/2\n",
    "if media<4:\n",
    "    c = \"E\"\n",
    "if media>=4 and media<6:\n",
    "    c = \"D\"\n",
    "if media>=6 and media<7.5:\n",
    "    c = \"C\"\n",
    "if media>=7.5 and media<9:\n",
    "    c = \"B\"\n",
    "if media>=9:\n",
    "    c = \"A\"\n",
    "print(\"--------------\")\n",
    "print(\"Nota 1: \",a)\n",
    "print(\"Nota 2: \",b)\n",
    "print(\"Média: \",media)\n",
    "print(\"Conceito: \",c)\n",
    "if c in aprovado:\n",
    "    print(\"APROVADO\")\n",
    "else:\n",
    "    print(\"REPROVADO\")"
   ]
  },
  {
   "cell_type": "code",
   "execution_count": 2,
   "metadata": {},
   "outputs": [
    {
     "name": "stdout",
     "output_type": "stream",
     "text": [
      "Lado 1: 1\n",
      "Lado 2: 2.1\n",
      "Lado 3: 3\n",
      "O triângulo é Escaleno\n"
     ]
    }
   ],
   "source": [
    "l1 = float(input(\"Lado 1: \"))\n",
    "l2 = float(input(\"Lado 2: \"))\n",
    "l3 = float(input(\"Lado 3: \"))\n",
    "if (l1+l2>l3 and l1+l3>l2 and l2+l3>l1):\n",
    "    if l1==l2==l3:\n",
    "        print(\"O triângulo é Equilátero\")\n",
    "    elif l1==l2 or l2==l3 or l1==l3:\n",
    "        print(\"O triângulo é Isósceles\")\n",
    "    else:        print(\"O triângulo é Escaleno\")\n",
    "else:\n",
    "    print(\"Estas medidas não foram um triangulo\")"
   ]
  },
  {
   "cell_type": "code",
   "execution_count": 12,
   "metadata": {},
   "outputs": [
    {
     "name": "stdout",
     "output_type": "stream",
     "text": [
      "A: -1\n",
      "B: 1\n",
      "C: 1\n",
      "5.0\n",
      "Raízes:  -0.5  -  1.5\n"
     ]
    }
   ],
   "source": [
    "a = float(input(\"A: \"))\n",
    "if a!=0:\n",
    "    b = float(input(\"B: \"))\n",
    "    c = float(input(\"C: \"))\n",
    "    d = b**2 - 4*a*c\n",
    "    print(d)\n",
    "    if d<0:\n",
    "        print(\"A função não possui raízes reais\")\n",
    "    elif d==0:\n",
    "        r = -b/2*a\n",
    "        print(\"Delta = 0; Poussuí apenas uma raíz: \",r)\n",
    "    else:\n",
    "        r1 = (-b + d//2) / 2*a\n",
    "        r2 = (-b - d//2) / 2*a\n",
    "        print(\"Raízes: \",r1,\" - \",r2)\n",
    "else:\n",
    "    print(\"Não é uma equação do segundo grau\")"
   ]
  },
  {
   "cell_type": "markdown",
   "metadata": {},
   "source": [
    "11.Faça um programa que faça 5 perguntas para uma pessoa sobre um crime. As\n",
    "perguntas são:\n",
    "\"Telefonou para a vítima?\"\n",
    "\"Esteve no local do crime?\"\n",
    "\"Mora perto da vítima?\"\n",
    "\"Devia para a vítima?\"\n",
    "\"Já trabalhou com a vítima?\"\n",
    "O programa deve no final emitir uma classificação sobre a participação da pessoa no\n",
    "crime. Se a pessoa responder positivamente a 2 questões ela deve ser classificada\n",
    "como \"Suspeita\", entre 3 e 4 como \"Cúmplice\" e 5 como \"Assassino\". Caso contrário,\n",
    "ele será classificado como \"Inocente\"."
   ]
  },
  {
   "cell_type": "code",
   "execution_count": 21,
   "metadata": {},
   "outputs": [
    {
     "name": "stdout",
     "output_type": "stream",
     "text": [
      "Responda com 'S' para Sim e 'N' para Não:\n",
      "Telefonou para a vítima?s\n",
      "Esteve no local do crime?s\n",
      "Mora perto da vítima?s\n",
      "Devia para a vítima?s\n",
      "Já trabalhou com a vítima?s\n",
      "-------------------\n",
      "Quatidade de 'sim':  5\n",
      "Classificação:  Assassino\n"
     ]
    }
   ],
   "source": [
    "cont = 0\n",
    "r=[]\n",
    "print(\"Responda com 'S' para Sim e 'N' para Não:\")\n",
    "r.append(input(\"Telefonou para a vítima?\"))\n",
    "r.append(input(\"Esteve no local do crime?\"))\n",
    "r.append(input(\"Mora perto da vítima?\"))\n",
    "r.append(input(\"Devia para a vítima?\"))\n",
    "r.append(input(\"Já trabalhou com a vítima?\"))\n",
    "i = 0\n",
    "for x in r:\n",
    "    if x=='s' or x=='S':\n",
    "        cont+=1\n",
    "    i+=1\n",
    "\n",
    "if cont<2:\n",
    "    c = \"Inocente\"\n",
    "if cont==2:\n",
    "    c = \"Suspeita\"\n",
    "if cont>2 and cont<5:\n",
    "    c = \"Cúmplice\"\n",
    "if cont==5:\n",
    "    c = \"Assassino\"\n",
    "print(\"-------------------\")\n",
    "print(\"Quatidade de 'sim': \",cont)\n",
    "print(\"Classificação: \",c)"
   ]
  },
  {
   "cell_type": "markdown",
   "metadata": {},
   "source": [
    "12.Uma fruteira está vendendo frutas com a seguinte tabela de preços:\n",
    "Até 5 Kg Acima de 5 Kg\n",
    "Morango R$ 2,50 por Kg R$ 2,20 por Kg\n",
    "Maçã R$ 1,80 por Kg R$ 1,50 por Kg\n",
    "Se o cliente comprar mais de 8 Kg em frutas ou o valor total da compra ultrapassar\n",
    "R$ 25,00, receberá ainda um desconto de 10% sobre este total. Escreva um\n",
    "algoritmo para ler a quantidade (em Kg) de morangos e a quantidade (em Kg) de\n",
    "maças adquiridas e escreva o valor a ser pago pelo cliente."
   ]
  },
  {
   "cell_type": "code",
   "execution_count": 31,
   "metadata": {},
   "outputs": [
    {
     "name": "stdout",
     "output_type": "stream",
     "text": [
      "Quantidade (KG) de Morango: 8\n",
      "Quantidade (KG) de Maçã: 0\n",
      "-----------\n",
      "Teve desconto\n",
      "Total: R$ 26.64\n"
     ]
    }
   ],
   "source": [
    "x = float(input(\"Quantidade (KG) de Morango: \"))\n",
    "y = float(input(\"Quantidade (KG) de Maçã: \"))\n",
    "if x>5:\n",
    "    p1 = x*2.2\n",
    "else:\n",
    "    p1 = x*2.5\n",
    "if x>5:\n",
    "    p2 = x*1.5\n",
    "else:\n",
    "    p2 = x*1.8\n",
    "kgTotal = x+y\n",
    "precoTotal = p1+p2\n",
    "print(\"-----------\")\n",
    "if kgTotal>8 or precoTotal > 25:\n",
    "    precoTotal = precoTotal*0.9\n",
    "    print(\"Teve desconto\")\n",
    "\n",
    "print(\"Total: R$\",precoTotal)\n",
    "    "
   ]
  },
  {
   "cell_type": "markdown",
   "metadata": {},
   "source": [
    "13.Faça um programa que peça uma nota, entre zero e dez. Mostre uma mensagem\n",
    "caso o valor seja inválido e continue pedindo até que o usuário informe um valor\n",
    "válido."
   ]
  },
  {
   "cell_type": "code",
   "execution_count": 4,
   "metadata": {},
   "outputs": [
    {
     "name": "stdout",
     "output_type": "stream",
     "text": [
      "Insira uma nota: 1\n",
      "Nota inválida!\n",
      "Insira uma nota válida: 2\n",
      "----------------------\n",
      "Nota válida inserida\n"
     ]
    }
   ],
   "source": [
    "valido = [\"2\",\"5\",\"10\",\"20\",\"50\",\"100\"]\n",
    "x = input(\"Insira uma nota: \")\n",
    "while x not in valido:\n",
    "    print(\"Nota inválida!\")\n",
    "    x = input(\"Insira uma nota válida: \")\n",
    "print(\"----------------------\")\n",
    "print(\"Nota válida inserida\")"
   ]
  },
  {
   "cell_type": "markdown",
   "metadata": {},
   "source": [
    "13.Faça um programa que leia e valide as seguintes informações:\n",
    "Nome: maior que 3 caracteres;\n",
    "Idade: entre 0 e 150;\n",
    "Salário: maior que zero;\n",
    "Sexo: 'f' ou 'm';\n",
    "Estado Civil: 's', 'c', 'v', 'd';"
   ]
  },
  {
   "cell_type": "code",
   "execution_count": 8,
   "metadata": {},
   "outputs": [
    {
     "name": "stdout",
     "output_type": "stream",
     "text": [
      "Insira sua idade (0-150): 2\n",
      "Sexo (m ou f): M\n",
      "Estado Civil (s, c, v, d): C\n",
      "Fim\n"
     ]
    }
   ],
   "source": [
    "a=-1\n",
    "s=\"\"\n",
    "e=\"\"\n",
    "while a<0 or a>150:\n",
    "    a = int(input(\"Insira sua idade (0-150): \"))\n",
    "sexo=[\"f\",\"m\"]\n",
    "while s.lower() not in sexo:\n",
    "    s = input(\"Sexo (m ou f): \")\n",
    "estado=[\"s\",\"c\",\"v\",\"d\"]\n",
    "while e.lower() not in estado:\n",
    "    e = input(\"Estado Civil (s, c, v, d): \")\n",
    "print(\"Fim\")\n"
   ]
  },
  {
   "cell_type": "markdown",
   "metadata": {},
   "source": [
    "14.Faça um programa que leia 5 números e informe o maior número."
   ]
  },
  {
   "cell_type": "code",
   "execution_count": 12,
   "metadata": {},
   "outputs": [
    {
     "name": "stdout",
     "output_type": "stream",
     "text": [
      "Insira um número: 1\n",
      "Insira um número: 5\n",
      "Insira um número: 6\n",
      "Insira um número: 1\n",
      "Insira um número: 312312.2\n",
      "Maior:  312312.2\n"
     ]
    }
   ],
   "source": [
    "cont=0\n",
    "v=[]\n",
    "while cont<5:\n",
    "    v.append(float(input(\"Insira um número: \")))\n",
    "    cont+=1\n",
    "maior = v[0]\n",
    "for x in v:\n",
    "    if x>maior:\n",
    "        maior=x\n",
    "print(\"Maior: \",maior)\n",
    "    \n",
    "    "
   ]
  },
  {
   "cell_type": "markdown",
   "metadata": {},
   "source": [
    "15.Faça um programa que leia 5 números e informe a soma e a média dos números."
   ]
  },
  {
   "cell_type": "code",
   "execution_count": 18,
   "metadata": {},
   "outputs": [
    {
     "name": "stdout",
     "output_type": "stream",
     "text": [
      "Insira um número: 123\n",
      "Insira um número: 213\n",
      "Insira um número: 312\n",
      "Insira um número: 3123\n",
      "Insira um número: 123\n",
      "Total:  3894.0\n",
      "Média :  778.8\n"
     ]
    }
   ],
   "source": [
    "cont=0\n",
    "total=0.0\n",
    "while cont<5:\n",
    "    total = total + float(input(\"Insira um número: \"))\n",
    "    cont+=1\n",
    "media = total/cont\n",
    "print(\"Total: \",total)\n",
    "print(\"Média : \",media)"
   ]
  },
  {
   "cell_type": "markdown",
   "metadata": {},
   "source": [
    "16.Faça um programa que imprima na tela apenas os números ímpares entre 1 e 50."
   ]
  },
  {
   "cell_type": "code",
   "execution_count": 21,
   "metadata": {},
   "outputs": [
    {
     "name": "stdout",
     "output_type": "stream",
     "text": [
      "1\n",
      "3\n",
      "5\n",
      "7\n",
      "9\n",
      "11\n",
      "13\n",
      "15\n",
      "17\n",
      "19\n",
      "21\n",
      "23\n",
      "25\n",
      "27\n",
      "29\n",
      "31\n",
      "33\n",
      "35\n",
      "37\n",
      "39\n",
      "41\n",
      "43\n",
      "45\n",
      "47\n",
      "49\n"
     ]
    }
   ],
   "source": [
    "for n in range(50):\n",
    "    if n % 2 != 0:\n",
    "        print(n)"
   ]
  },
  {
   "cell_type": "markdown",
   "metadata": {},
   "source": [
    "17.Desenvolva um gerador de tabuada, capaz de gerar a tabuada de qualquer\n",
    "número inteiro entre 1 a 10. O usuário deve informar de qual numero ele deseja ver\n",
    "a tabuada. A saída deve ser conforme o exemplo abaixo:\n",
    "Tabuada de 5:\n",
    "5 X 1 = 5\n",
    "5 X 2 = 10\n",
    "...\n",
    "5 X 10 = 50"
   ]
  },
  {
   "cell_type": "code",
   "execution_count": 34,
   "metadata": {},
   "outputs": [
    {
     "name": "stdout",
     "output_type": "stream",
     "text": [
      "Insira um número: 2\n",
      "Tabuada do 2 :\n",
      "2 x 1  =  2\n",
      "2 x 2  =  4\n",
      "2 x 3  =  6\n",
      "2 x 4  =  8\n",
      "2 x 5  =  10\n",
      "2 x 6  =  12\n",
      "2 x 7  =  14\n",
      "2 x 8  =  16\n",
      "2 x 9  =  18\n",
      "2 x 10  =  20\n"
     ]
    }
   ],
   "source": [
    "x= int(input(\"Insira um número: \"))\n",
    "print(\"Tabuada do\",x,\":\")\n",
    "i = 1\n",
    "while i<11:\n",
    "    print(x,\"x\",i,\" = \",x*i)\n",
    "    i+=1"
   ]
  },
  {
   "cell_type": "markdown",
   "metadata": {},
   "source": [
    "18.A série de Fibonacci é formada pela seqüência 1,1,2,3,5,8,13,21,34,55,... Faça um\n",
    "programa capaz de gerar a série até o n−ésimo termo."
   ]
  },
  {
   "cell_type": "code",
   "execution_count": 12,
   "metadata": {},
   "outputs": [
    {
     "name": "stdout",
     "output_type": "stream",
     "text": [
      "Insira um número: 10\n",
      "0 : 0\n",
      "1 : 1\n",
      "2 : 1\n",
      "3 : 2\n",
      "4 : 3\n",
      "5 : 5\n",
      "6 : 8\n",
      "7 : 13\n",
      "8 : 21\n",
      "9 : 34\n"
     ]
    }
   ],
   "source": [
    "x= int(input(\"Insira um número: \"))\n",
    "i=0\n",
    "v=[0 , 1]\n",
    "while i<x:\n",
    "    if i == 0:\n",
    "        print(\"0 : 0\")\n",
    "    elif i == 1:\n",
    "        print (\"1 : 1\")\n",
    "    else:\n",
    "        v.append(v[i-1]+v[i-2])\n",
    "        print(i,\":\",v[i])\n",
    "    i+=1\n",
    "        \n"
   ]
  },
  {
   "cell_type": "markdown",
   "metadata": {},
   "source": [
    "19.Faça um programa que calcule o fatorial de um número inteiro fornecido pelo\n",
    "usuário. Ex.: 5!=5.4.3.2.1=120"
   ]
  },
  {
   "cell_type": "code",
   "execution_count": null,
   "metadata": {},
   "outputs": [],
   "source": [
    "x= int(input(\"Insira um número: \"))\n",
    "total = 1\n",
    "while x>1:\n",
    "    total= total * (x)\n",
    "    x-=1\n",
    "print(total)\n",
    "    "
   ]
  },
  {
   "cell_type": "markdown",
   "metadata": {},
   "source": [
    "20.O Sr. Manoel Joaquim possui uma grande loja de artigos de RS1,99, com cerca\n",
    "de 10 caixas. Para agilizar o cálculo de quanto cada cliente deve pagar ele\n",
    "desenvolveu um tabela que contém o número de itens que o cliente comprou e ao\n",
    "lado o valor da conta. Desta forma a atendente do caixa precisa apenas contar\n",
    "quantos itens o cliente está levando e olhar na tabela de preços. Você foi contratado\n",
    "para desenvolver o programa que monta esta tabela de preços, que conterá os\n",
    "preços de 1 até 50 produtos, conforme o exemplo abaixo:\n",
    "Lojas Quase Dois - Tabela de preços\n",
    "1- RS 1.99\n",
    "2- RS 3.98\n",
    "...\n",
    "50 - RS 99.50"
   ]
  },
  {
   "cell_type": "code",
   "execution_count": 12,
   "metadata": {},
   "outputs": [
    {
     "name": "stdout",
     "output_type": "stream",
     "text": [
      "Lojas Quase Dois - Tabela de Preços\n",
      " 1 - R$1.99\n",
      " 2 - R$3.98\n",
      " 3 - R$5.97\n",
      " 4 - R$7.96\n",
      " 5 - R$9.95\n",
      " 6 - R$11.94\n",
      " 7 - R$13.93\n",
      " 8 - R$15.92\n",
      " 9 - R$17.91\n",
      "10 - R$19.90\n",
      "11 - R$21.89\n",
      "12 - R$23.88\n",
      "13 - R$25.87\n",
      "14 - R$27.86\n",
      "15 - R$29.85\n",
      "16 - R$31.84\n",
      "17 - R$33.83\n",
      "18 - R$35.82\n",
      "19 - R$37.81\n",
      "20 - R$39.80\n",
      "21 - R$41.79\n",
      "22 - R$43.78\n",
      "23 - R$45.77\n",
      "24 - R$47.76\n",
      "25 - R$49.75\n",
      "26 - R$51.74\n",
      "27 - R$53.73\n",
      "28 - R$55.72\n",
      "29 - R$57.71\n",
      "30 - R$59.70\n",
      "31 - R$61.69\n",
      "32 - R$63.68\n",
      "33 - R$65.67\n",
      "34 - R$67.66\n",
      "35 - R$69.65\n",
      "36 - R$71.64\n",
      "37 - R$73.63\n",
      "38 - R$75.62\n",
      "39 - R$77.61\n",
      "40 - R$79.60\n",
      "41 - R$81.59\n",
      "42 - R$83.58\n",
      "43 - R$85.57\n",
      "44 - R$87.56\n",
      "45 - R$89.55\n",
      "46 - R$91.54\n",
      "47 - R$93.53\n",
      "48 - R$95.52\n",
      "49 - R$97.51\n",
      "50 - R$99.50\n"
     ]
    }
   ],
   "source": [
    "print(\"Lojas Quase Dois - Tabela de Preços\")\n",
    "x = 1\n",
    "while x<51:\n",
    "    print(\"%2i - R$%4.2f\" %(x,x*1.99))\n",
    "    x+=1"
   ]
  },
  {
   "cell_type": "markdown",
   "metadata": {},
   "source": [
    "21.O Sr. Manoel Joaquim acaba de adquirir uma panificadora e pretende implantar\n",
    "a metodologia da tabelinha, que já é um sucesso na sua loja de 1,99. Você foi\n",
    "contratado para desenvolver o programa que monta a tabela de preços de pães, de\n",
    "1 até 50 pães, a partir do preço do pão informado pelo usuário, conforme o exemplo\n",
    "abaixo:\n",
    "Preço do pão: RS 0.18\n",
    "Panificadora Pão de Ontem - Tabela de preços\n",
    "1 - RS 0.18\n",
    "2 - RS 0.36\n",
    "...\n",
    "50 - RS 9.00"
   ]
  },
  {
   "cell_type": "code",
   "execution_count": 16,
   "metadata": {},
   "outputs": [
    {
     "name": "stdout",
     "output_type": "stream",
     "text": [
      "Preço do pão: 0.1\n",
      "Panificadora Pão de Ontem - Tabela de preços\n",
      " 1 - R$  0.10\n",
      " 2 - R$  0.20\n",
      " 3 - R$  0.30\n",
      " 4 - R$  0.40\n",
      " 5 - R$  0.50\n",
      " 6 - R$  0.60\n",
      " 7 - R$  0.70\n",
      " 8 - R$  0.80\n",
      " 9 - R$  0.90\n",
      "10 - R$  1.00\n",
      "11 - R$  1.10\n",
      "12 - R$  1.20\n",
      "13 - R$  1.30\n",
      "14 - R$  1.40\n",
      "15 - R$  1.50\n",
      "16 - R$  1.60\n",
      "17 - R$  1.70\n",
      "18 - R$  1.80\n",
      "19 - R$  1.90\n",
      "20 - R$  2.00\n",
      "21 - R$  2.10\n",
      "22 - R$  2.20\n",
      "23 - R$  2.30\n",
      "24 - R$  2.40\n",
      "25 - R$  2.50\n",
      "26 - R$  2.60\n",
      "27 - R$  2.70\n",
      "28 - R$  2.80\n",
      "29 - R$  2.90\n",
      "30 - R$  3.00\n",
      "31 - R$  3.10\n",
      "32 - R$  3.20\n",
      "33 - R$  3.30\n",
      "34 - R$  3.40\n",
      "35 - R$  3.50\n",
      "36 - R$  3.60\n",
      "37 - R$  3.70\n",
      "38 - R$  3.80\n",
      "39 - R$  3.90\n",
      "40 - R$  4.00\n",
      "41 - R$  4.10\n",
      "42 - R$  4.20\n",
      "43 - R$  4.30\n",
      "44 - R$  4.40\n",
      "45 - R$  4.50\n",
      "46 - R$  4.60\n",
      "47 - R$  4.70\n",
      "48 - R$  4.80\n",
      "49 - R$  4.90\n",
      "50 - R$  5.00\n"
     ]
    }
   ],
   "source": [
    "p = float(input(\"Preço do pão: \"))\n",
    "\n",
    "print(\"Panificadora Pão de Ontem - Tabela de preços\")\n",
    "x = 1\n",
    "while x<51:\n",
    "    print(\"%2i - R$%6.2f\" %(x,x*p))\n",
    "    x+=1"
   ]
  },
  {
   "cell_type": "code",
   "execution_count": null,
   "metadata": {},
   "outputs": [],
   "source": []
  }
 ],
 "metadata": {
  "kernelspec": {
   "display_name": "Python 3",
   "language": "python",
   "name": "python3"
  },
  "language_info": {
   "codemirror_mode": {
    "name": "ipython",
    "version": 3
   },
   "file_extension": ".py",
   "mimetype": "text/x-python",
   "name": "python",
   "nbconvert_exporter": "python",
   "pygments_lexer": "ipython3",
   "version": "3.6.4"
  }
 },
 "nbformat": 4,
 "nbformat_minor": 2
}
