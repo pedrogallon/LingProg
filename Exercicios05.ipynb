{
 "cells": [
  {
   "cell_type": "markdown",
   "metadata": {},
   "source": [
    "1 Linha: Crie a classe Linha que tem dois atributos, coordenada1 e coordenada2.\n",
    "Cada coordenada é uma tupla que carrega duas coordenadas cartesianas (x,y) que\n",
    "denotam pontos do segmento de reta. Faça métodos que calculem o comprimento\n",
    "do segmento de reta e sua inclinação."
   ]
  },
  {
   "cell_type": "code",
   "execution_count": 5,
   "metadata": {},
   "outputs": [
    {
     "name": "stdout",
     "output_type": "stream",
     "text": [
      "3\n"
     ]
    }
   ],
   "source": [
    "\n",
    "class Linha():\n",
    "    def __init__(self,c1, c2):\n",
    "        self.c1 = c1\n",
    "        self.c2 = c2\n",
    "    def getComprimento(self):\n",
    "        soma = (abs(self.c1[0] - self.c2[0]) + abs(self.c1[1] - self.c2[1]))\n",
    "        print(soma)\n",
    "        \n",
    "l = Linha((1,1),(2,3))\n",
    "l.getComprimento()\n",
    "          \n",
    "    "
   ]
  },
  {
   "cell_type": "markdown",
   "metadata": {},
   "source": [
    "2 Figuras: Crie a seguinte hierarquia de classes de figuras geométricas. Veja na figura\n",
    "as fórmulas:\n",
    "a. A classe abstrata Figura deve ter o método abstrato area.\n",
    "b. A classe concreta Circulo é subclasse de Figura.\n",
    "c. A classe abstrata Poligono é subclasse de Figura e deve ter os atributos base e\n",
    "altura .\n",
    "d. As classes concretas Triangulo, Losango, Retangulo e Quadrado são subclasses\n",
    "de Poligono. Tente criar mais uma generalização aqui olhando as fórmulas da área.\n",
    "e. Os polígonos Retangulo e Quadrado devem implementar a interface Diagonal,\n",
    "que deve ter um método que calcula a diagonal.\n",
    "f. Crie uma classe Geometria com uma lista de Figuras com pelo menos uma\n",
    "figura de cada e imprima suas áreas, perímetros e diagonais."
   ]
  },
  {
   "cell_type": "code",
   "execution_count": 8,
   "metadata": {},
   "outputs": [
    {
     "name": "stdout",
     "output_type": "stream",
     "text": [
      "Figura criada\n",
      "Circulo criado\n",
      "Figura criada\n",
      "Poligono criado\n",
      "Triangulo criado\n",
      "Figura criada\n",
      "Poligono criado\n",
      "Losango criado\n",
      "Figura criada\n",
      "Poligono criado\n",
      "Retangulo criado\n",
      "Figura criada\n",
      "Poligono criado\n",
      "Quadrado criado\n",
      "78.53999999999999\n",
      "12.5\n",
      "12\n",
      "60\n",
      "4\n"
     ]
    }
   ],
   "source": [
    "class Figura:\n",
    "    def __init__(self):\n",
    "        print(\"Figura criada\")\n",
    "\n",
    "    def getArea(self):\n",
    "        raise NotImplementedError(\"Abstrata\")\n",
    "        \n",
    "class Circulo(Figura):\n",
    "    def __init__(self, r):\n",
    "        Figura.__init__(self)\n",
    "        print(\"Circulo criado\")\n",
    "        self.raio = r\n",
    "        \n",
    "    def getArea(self):\n",
    "        return 3.1416*self.raio**2\n",
    "        \n",
    "        \n",
    "class Poligono(Figura):\n",
    "    base = 0\n",
    "    altura = 0\n",
    "    \n",
    "    def __init__(self, base, altura):\n",
    "        Figura.__init__(self)\n",
    "        print(\"Poligono criado\")\n",
    "        self.base = base\n",
    "        self.altura = altura\n",
    "    def getArea(self):\n",
    "        print(\"Não implementado\")\n",
    "        \n",
    "class Triangulo(Poligono):\n",
    "    def __init__(self, base, altura):\n",
    "        Poligono.__init__(self, base, altura)\n",
    "        print(\"Triangulo criado\")\n",
    "        \n",
    "    def getArea(self):\n",
    "        return self.base*self.altura/2\n",
    "\n",
    "class Losango(Poligono):\n",
    "    def __init__(self, base, altura):\n",
    "        Poligono.__init__(self,base,altura)\n",
    "        print(\"Losango criado\")\n",
    "    def getArea(self):\n",
    "        return self.altura*self.base\n",
    "    \n",
    "class Retangulo(Poligono):\n",
    "    def __init__(self, base, altura):\n",
    "        Poligono.__init__(self,base,altura)\n",
    "        print(\"Retangulo criado\")\n",
    "    def getArea(self):\n",
    "        return self.altura*self.base\n",
    "    \n",
    "class Quadrado(Poligono):\n",
    "    def __init__(self, lado):\n",
    "        Poligono.__init__(self,lado,lado)\n",
    "        print(\"Quadrado criado\")\n",
    "    def getArea(self):\n",
    "        return self.altura*self.base\n",
    "    \n",
    "a = Circulo(5)\n",
    "b = Triangulo(5,5)\n",
    "c = Losango(4,3)\n",
    "d = Retangulo(6,10)\n",
    "e = Quadrado(2)\n",
    "\n",
    "class Geometria:\n",
    "    \n",
    "    def __init__(self, *f):\n",
    "        self.figuras = f\n",
    "        \n",
    "    def listar(self):\n",
    "        for x in self.figuras:\n",
    "            print(x.getArea())\n",
    "\n",
    "g = Geometria(a,b,c,d,e)\n",
    "\n",
    "g.listar()\n",
    "        \n"
   ]
  },
  {
   "cell_type": "markdown",
   "metadata": {},
   "source": [
    "3 Jogo de Blacjack: Faça um joguinho simples em Python.\n",
    "Aqui estão os requisitos:\n",
    "- Você precisa criar um jogo de BlackJack (21) baseado em texto simples\n",
    "- O jogo precisa ter um jogador contra um croupier automatizado.\n",
    "- O jogador pode desistir ou bater.\n",
    "- O jogador deve ser capaz de escolher o seu valor de aposta.\n",
    "- Você precisa acompanhar o dinheiro total do jogador.\n",
    "- Você precisa alertar o jogador de vitórias, derrotas ou estouros, etc ...\n",
    "E o mais importante:\n",
    "Você deve usar OOP e classes em alguma parte do seu jogo. Você não pode\n",
    "simplesmente usar funções no seu jogo. Use classes para ajudá-lo a definir o deck e a\n",
    "mão do jogador. Há muitas maneiras certas de fazer isso, então explore bem!"
   ]
  },
  {
   "cell_type": "code",
   "execution_count": 17,
   "metadata": {},
   "outputs": [
    {
     "data": {
      "text/plain": [
       "'pedro'"
      ]
     },
     "execution_count": 17,
     "metadata": {},
     "output_type": "execute_result"
    }
   ],
   "source": [
    "from random import randint\n",
    "class Jogador:\n",
    "    def __init__(self, nome = \"jogador\"):\n",
    "        self.nome = nome\n",
    "    def entrar(self, aposta = 10):\n",
    "        self.total = 0\n",
    "        self.dinheiro = 100\n",
    "        self.aposta = aposta\n",
    "    def bater(self):\n",
    "        n = randint(1,10)\n",
    "        self.total += n\n",
    "        if n == 21:\n",
    "            return \"vitoria\"\n",
    "        if n > 21:\n",
    "            return \"derrota\"\n",
    "        return \"continua\"\n",
    "    def desistir(self):\n",
    "        self.dinheiro = self.dinheiro - self.aposta\n",
    "        \n",
    "        \n",
    "class Blackjack:\n",
    "    def __init__(self, *jogadores):\n",
    "        self.jogadores = jogadores\n",
    "        self.apostaTotal = 0\n",
    "        for j in jogadores:\n",
    "            self.apostaTotal += j.aposta\n",
    "    def jogar(self):\n",
    "        for j in jogadores:\n",
    "            escolha = input(\"Bate ou Desiste? (B ou D)\")\n",
    "            while escolha != \"d\" and escolha != \"D\" and escolha != \"b\" and escolha != \"B\":\n",
    "                print(\"Escolha B ou D!\")\n",
    "                escolha = input(\"Bate ou Desiste? (B ou D)\")\n",
    "            \n",
    "            if escolha == \"D\" or escolha == \"d\":\n",
    "                self.jogadores.remove(j)\n",
    "            else:\n",
    "                b = j.bater()\n",
    "                if b == \"vitoria\":\n",
    "                    print(\"Jogador %s Ganhou com 21!\")\n",
    "                if b == \"derrota\":\n",
    "                    print(\"Jogador %s Estourou!\" %(j.nome))\n",
    "                \n",
    "    \n",
    "        \n",
    "\n",
    "x = Jogador(\"pedro\")\n",
    "x.nome\n"
   ]
  }
 ],
 "metadata": {
  "kernelspec": {
   "display_name": "Python 3",
   "language": "python",
   "name": "python3"
  },
  "language_info": {
   "codemirror_mode": {
    "name": "ipython",
    "version": 3
   },
   "file_extension": ".py",
   "mimetype": "text/x-python",
   "name": "python",
   "nbconvert_exporter": "python",
   "pygments_lexer": "ipython3",
   "version": "3.6.3"
  }
 },
 "nbformat": 4,
 "nbformat_minor": 2
}
